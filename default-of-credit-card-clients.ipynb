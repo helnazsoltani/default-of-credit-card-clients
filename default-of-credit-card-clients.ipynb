{
 "cells": [
  {
   "cell_type": "code",
   "execution_count": 1,
   "metadata": {},
   "outputs": [],
   "source": [
    "import os\n",
    "import sys\n",
    "import warnings\n",
    "if not sys.warnoptions:\n",
    "    warnings.simplefilter(\"ignore\")\n",
    "\n",
    "import numpy as np\n",
    "np.random.seed(42)\n",
    "import pandas as pd\n",
    "from pandas.plotting import scatter_matrix\n",
    "import matplotlib.pyplot as plt\n",
    "plt.rc('xtick', labelsize = 20) \n",
    "plt.rc('ytick', labelsize = 20)\n",
    "plt.rc('text', usetex=True)\n",
    "import seaborn as sns\n",
    "sns.set(font_scale = 1.5)\n",
    "from scipy import stats\n",
    "import scipy.stats as scs\n",
    "\n",
    "%matplotlib inline"
   ]
  },
  {
   "cell_type": "code",
   "execution_count": 2,
   "metadata": {},
   "outputs": [],
   "source": [
    "df = pd.read_excel('../data/default of credit card clients.xls', index_col = 0)"
   ]
  },
  {
   "cell_type": "code",
   "execution_count": 3,
   "metadata": {},
   "outputs": [
    {
     "data": {
      "text/html": [
       "<div>\n",
       "<style scoped>\n",
       "    .dataframe tbody tr th:only-of-type {\n",
       "        vertical-align: middle;\n",
       "    }\n",
       "\n",
       "    .dataframe tbody tr th {\n",
       "        vertical-align: top;\n",
       "    }\n",
       "\n",
       "    .dataframe thead th {\n",
       "        text-align: right;\n",
       "    }\n",
       "</style>\n",
       "<table border=\"1\" class=\"dataframe\">\n",
       "  <thead>\n",
       "    <tr style=\"text-align: right;\">\n",
       "      <th></th>\n",
       "      <th>X1</th>\n",
       "      <th>X2</th>\n",
       "      <th>X3</th>\n",
       "      <th>X4</th>\n",
       "      <th>X5</th>\n",
       "      <th>X6</th>\n",
       "      <th>X7</th>\n",
       "      <th>X8</th>\n",
       "      <th>X9</th>\n",
       "      <th>X10</th>\n",
       "      <th>...</th>\n",
       "      <th>X15</th>\n",
       "      <th>X16</th>\n",
       "      <th>X17</th>\n",
       "      <th>X18</th>\n",
       "      <th>X19</th>\n",
       "      <th>X20</th>\n",
       "      <th>X21</th>\n",
       "      <th>X22</th>\n",
       "      <th>X23</th>\n",
       "      <th>Y</th>\n",
       "    </tr>\n",
       "  </thead>\n",
       "  <tbody>\n",
       "    <tr>\n",
       "      <th>ID</th>\n",
       "      <td>LIMIT_BAL</td>\n",
       "      <td>SEX</td>\n",
       "      <td>EDUCATION</td>\n",
       "      <td>MARRIAGE</td>\n",
       "      <td>AGE</td>\n",
       "      <td>PAY_0</td>\n",
       "      <td>PAY_2</td>\n",
       "      <td>PAY_3</td>\n",
       "      <td>PAY_4</td>\n",
       "      <td>PAY_5</td>\n",
       "      <td>...</td>\n",
       "      <td>BILL_AMT4</td>\n",
       "      <td>BILL_AMT5</td>\n",
       "      <td>BILL_AMT6</td>\n",
       "      <td>PAY_AMT1</td>\n",
       "      <td>PAY_AMT2</td>\n",
       "      <td>PAY_AMT3</td>\n",
       "      <td>PAY_AMT4</td>\n",
       "      <td>PAY_AMT5</td>\n",
       "      <td>PAY_AMT6</td>\n",
       "      <td>default payment next month</td>\n",
       "    </tr>\n",
       "    <tr>\n",
       "      <th>1</th>\n",
       "      <td>20000</td>\n",
       "      <td>2</td>\n",
       "      <td>2</td>\n",
       "      <td>1</td>\n",
       "      <td>24</td>\n",
       "      <td>2</td>\n",
       "      <td>2</td>\n",
       "      <td>-1</td>\n",
       "      <td>-1</td>\n",
       "      <td>-2</td>\n",
       "      <td>...</td>\n",
       "      <td>0</td>\n",
       "      <td>0</td>\n",
       "      <td>0</td>\n",
       "      <td>0</td>\n",
       "      <td>689</td>\n",
       "      <td>0</td>\n",
       "      <td>0</td>\n",
       "      <td>0</td>\n",
       "      <td>0</td>\n",
       "      <td>1</td>\n",
       "    </tr>\n",
       "    <tr>\n",
       "      <th>2</th>\n",
       "      <td>120000</td>\n",
       "      <td>2</td>\n",
       "      <td>2</td>\n",
       "      <td>2</td>\n",
       "      <td>26</td>\n",
       "      <td>-1</td>\n",
       "      <td>2</td>\n",
       "      <td>0</td>\n",
       "      <td>0</td>\n",
       "      <td>0</td>\n",
       "      <td>...</td>\n",
       "      <td>3272</td>\n",
       "      <td>3455</td>\n",
       "      <td>3261</td>\n",
       "      <td>0</td>\n",
       "      <td>1000</td>\n",
       "      <td>1000</td>\n",
       "      <td>1000</td>\n",
       "      <td>0</td>\n",
       "      <td>2000</td>\n",
       "      <td>1</td>\n",
       "    </tr>\n",
       "    <tr>\n",
       "      <th>3</th>\n",
       "      <td>90000</td>\n",
       "      <td>2</td>\n",
       "      <td>2</td>\n",
       "      <td>2</td>\n",
       "      <td>34</td>\n",
       "      <td>0</td>\n",
       "      <td>0</td>\n",
       "      <td>0</td>\n",
       "      <td>0</td>\n",
       "      <td>0</td>\n",
       "      <td>...</td>\n",
       "      <td>14331</td>\n",
       "      <td>14948</td>\n",
       "      <td>15549</td>\n",
       "      <td>1518</td>\n",
       "      <td>1500</td>\n",
       "      <td>1000</td>\n",
       "      <td>1000</td>\n",
       "      <td>1000</td>\n",
       "      <td>5000</td>\n",
       "      <td>0</td>\n",
       "    </tr>\n",
       "    <tr>\n",
       "      <th>4</th>\n",
       "      <td>50000</td>\n",
       "      <td>2</td>\n",
       "      <td>2</td>\n",
       "      <td>1</td>\n",
       "      <td>37</td>\n",
       "      <td>0</td>\n",
       "      <td>0</td>\n",
       "      <td>0</td>\n",
       "      <td>0</td>\n",
       "      <td>0</td>\n",
       "      <td>...</td>\n",
       "      <td>28314</td>\n",
       "      <td>28959</td>\n",
       "      <td>29547</td>\n",
       "      <td>2000</td>\n",
       "      <td>2019</td>\n",
       "      <td>1200</td>\n",
       "      <td>1100</td>\n",
       "      <td>1069</td>\n",
       "      <td>1000</td>\n",
       "      <td>0</td>\n",
       "    </tr>\n",
       "  </tbody>\n",
       "</table>\n",
       "<p>5 rows × 24 columns</p>\n",
       "</div>"
      ],
      "text/plain": [
       "           X1   X2         X3        X4   X5     X6     X7     X8     X9  \\\n",
       "ID  LIMIT_BAL  SEX  EDUCATION  MARRIAGE  AGE  PAY_0  PAY_2  PAY_3  PAY_4   \n",
       "1       20000    2          2         1   24      2      2     -1     -1   \n",
       "2      120000    2          2         2   26     -1      2      0      0   \n",
       "3       90000    2          2         2   34      0      0      0      0   \n",
       "4       50000    2          2         1   37      0      0      0      0   \n",
       "\n",
       "      X10  ...        X15        X16        X17       X18       X19       X20  \\\n",
       "ID  PAY_5  ...  BILL_AMT4  BILL_AMT5  BILL_AMT6  PAY_AMT1  PAY_AMT2  PAY_AMT3   \n",
       "1      -2  ...          0          0          0         0       689         0   \n",
       "2       0  ...       3272       3455       3261         0      1000      1000   \n",
       "3       0  ...      14331      14948      15549      1518      1500      1000   \n",
       "4       0  ...      28314      28959      29547      2000      2019      1200   \n",
       "\n",
       "         X21       X22       X23                           Y  \n",
       "ID  PAY_AMT4  PAY_AMT5  PAY_AMT6  default payment next month  \n",
       "1          0         0         0                           1  \n",
       "2       1000         0      2000                           1  \n",
       "3       1000      1000      5000                           0  \n",
       "4       1100      1069      1000                           0  \n",
       "\n",
       "[5 rows x 24 columns]"
      ]
     },
     "execution_count": 3,
     "metadata": {},
     "output_type": "execute_result"
    }
   ],
   "source": [
    "df.head()"
   ]
  },
  {
   "cell_type": "code",
   "execution_count": 4,
   "metadata": {},
   "outputs": [
    {
     "data": {
      "text/plain": [
       "(30001, 24)"
      ]
     },
     "execution_count": 4,
     "metadata": {},
     "output_type": "execute_result"
    }
   ],
   "source": [
    "df.shape"
   ]
  },
  {
   "cell_type": "code",
   "execution_count": 5,
   "metadata": {
    "scrolled": true
   },
   "outputs": [
    {
     "name": "stdout",
     "output_type": "stream",
     "text": [
      "<class 'pandas.core.frame.DataFrame'>\n",
      "Index: 30001 entries, ID to 30000\n",
      "Data columns (total 24 columns):\n",
      " #   Column  Non-Null Count  Dtype \n",
      "---  ------  --------------  ----- \n",
      " 0   X1      30001 non-null  object\n",
      " 1   X2      30001 non-null  object\n",
      " 2   X3      30001 non-null  object\n",
      " 3   X4      30001 non-null  object\n",
      " 4   X5      30001 non-null  object\n",
      " 5   X6      30001 non-null  object\n",
      " 6   X7      30001 non-null  object\n",
      " 7   X8      30001 non-null  object\n",
      " 8   X9      30001 non-null  object\n",
      " 9   X10     30001 non-null  object\n",
      " 10  X11     30001 non-null  object\n",
      " 11  X12     30001 non-null  object\n",
      " 12  X13     30001 non-null  object\n",
      " 13  X14     30001 non-null  object\n",
      " 14  X15     30001 non-null  object\n",
      " 15  X16     30001 non-null  object\n",
      " 16  X17     30001 non-null  object\n",
      " 17  X18     30001 non-null  object\n",
      " 18  X19     30001 non-null  object\n",
      " 19  X20     30001 non-null  object\n",
      " 20  X21     30001 non-null  object\n",
      " 21  X22     30001 non-null  object\n",
      " 22  X23     30001 non-null  object\n",
      " 23  Y       30001 non-null  object\n",
      "dtypes: object(24)\n",
      "memory usage: 5.7+ MB\n"
     ]
    }
   ],
   "source": [
    "df.info()"
   ]
  },
  {
   "cell_type": "markdown",
   "metadata": {},
   "source": [
    "### Data set information:\n",
    "- Number of Instances: 30000\n",
    "- Number of Attributes: 24\n",
    "- Attribute Characteristics: Object\n",
    "- Area: Business\n",
    "- Data Set Characteristics: Multivariate\n",
    "- Associated Tasks: Classification\n",
    "- Date Donated: 01/26/2106"
   ]
  },
  {
   "cell_type": "code",
   "execution_count": 6,
   "metadata": {},
   "outputs": [
    {
     "data": {
      "text/html": [
       "<div>\n",
       "<style scoped>\n",
       "    .dataframe tbody tr th:only-of-type {\n",
       "        vertical-align: middle;\n",
       "    }\n",
       "\n",
       "    .dataframe tbody tr th {\n",
       "        vertical-align: top;\n",
       "    }\n",
       "\n",
       "    .dataframe thead th {\n",
       "        text-align: right;\n",
       "    }\n",
       "</style>\n",
       "<table border=\"1\" class=\"dataframe\">\n",
       "  <thead>\n",
       "    <tr style=\"text-align: right;\">\n",
       "      <th></th>\n",
       "      <th>X1</th>\n",
       "      <th>X2</th>\n",
       "      <th>X3</th>\n",
       "      <th>X4</th>\n",
       "      <th>X5</th>\n",
       "      <th>X6</th>\n",
       "      <th>X7</th>\n",
       "      <th>X8</th>\n",
       "      <th>X9</th>\n",
       "      <th>X10</th>\n",
       "      <th>...</th>\n",
       "      <th>X15</th>\n",
       "      <th>X16</th>\n",
       "      <th>X17</th>\n",
       "      <th>X18</th>\n",
       "      <th>X19</th>\n",
       "      <th>X20</th>\n",
       "      <th>X21</th>\n",
       "      <th>X22</th>\n",
       "      <th>X23</th>\n",
       "      <th>Y</th>\n",
       "    </tr>\n",
       "  </thead>\n",
       "  <tbody>\n",
       "    <tr>\n",
       "      <th>count</th>\n",
       "      <td>30001</td>\n",
       "      <td>30001</td>\n",
       "      <td>30001</td>\n",
       "      <td>30001</td>\n",
       "      <td>30001</td>\n",
       "      <td>30001</td>\n",
       "      <td>30001</td>\n",
       "      <td>30001</td>\n",
       "      <td>30001</td>\n",
       "      <td>30001</td>\n",
       "      <td>...</td>\n",
       "      <td>30001</td>\n",
       "      <td>30001</td>\n",
       "      <td>30001</td>\n",
       "      <td>30001</td>\n",
       "      <td>30001</td>\n",
       "      <td>30001</td>\n",
       "      <td>30001</td>\n",
       "      <td>30001</td>\n",
       "      <td>30001</td>\n",
       "      <td>30001</td>\n",
       "    </tr>\n",
       "    <tr>\n",
       "      <th>unique</th>\n",
       "      <td>82</td>\n",
       "      <td>3</td>\n",
       "      <td>8</td>\n",
       "      <td>5</td>\n",
       "      <td>57</td>\n",
       "      <td>12</td>\n",
       "      <td>12</td>\n",
       "      <td>12</td>\n",
       "      <td>12</td>\n",
       "      <td>11</td>\n",
       "      <td>...</td>\n",
       "      <td>21549</td>\n",
       "      <td>21011</td>\n",
       "      <td>20605</td>\n",
       "      <td>7944</td>\n",
       "      <td>7900</td>\n",
       "      <td>7519</td>\n",
       "      <td>6938</td>\n",
       "      <td>6898</td>\n",
       "      <td>6940</td>\n",
       "      <td>3</td>\n",
       "    </tr>\n",
       "    <tr>\n",
       "      <th>top</th>\n",
       "      <td>50000</td>\n",
       "      <td>2</td>\n",
       "      <td>2</td>\n",
       "      <td>2</td>\n",
       "      <td>29</td>\n",
       "      <td>0</td>\n",
       "      <td>0</td>\n",
       "      <td>0</td>\n",
       "      <td>0</td>\n",
       "      <td>0</td>\n",
       "      <td>...</td>\n",
       "      <td>0</td>\n",
       "      <td>0</td>\n",
       "      <td>0</td>\n",
       "      <td>0</td>\n",
       "      <td>0</td>\n",
       "      <td>0</td>\n",
       "      <td>0</td>\n",
       "      <td>0</td>\n",
       "      <td>0</td>\n",
       "      <td>0</td>\n",
       "    </tr>\n",
       "    <tr>\n",
       "      <th>freq</th>\n",
       "      <td>3365</td>\n",
       "      <td>18112</td>\n",
       "      <td>14030</td>\n",
       "      <td>15964</td>\n",
       "      <td>1605</td>\n",
       "      <td>14737</td>\n",
       "      <td>15730</td>\n",
       "      <td>15764</td>\n",
       "      <td>16455</td>\n",
       "      <td>16947</td>\n",
       "      <td>...</td>\n",
       "      <td>3195</td>\n",
       "      <td>3506</td>\n",
       "      <td>4020</td>\n",
       "      <td>5249</td>\n",
       "      <td>5396</td>\n",
       "      <td>5968</td>\n",
       "      <td>6408</td>\n",
       "      <td>6703</td>\n",
       "      <td>7173</td>\n",
       "      <td>23364</td>\n",
       "    </tr>\n",
       "  </tbody>\n",
       "</table>\n",
       "<p>4 rows × 24 columns</p>\n",
       "</div>"
      ],
      "text/plain": [
       "           X1     X2     X3     X4     X5     X6     X7     X8     X9    X10  \\\n",
       "count   30001  30001  30001  30001  30001  30001  30001  30001  30001  30001   \n",
       "unique     82      3      8      5     57     12     12     12     12     11   \n",
       "top     50000      2      2      2     29      0      0      0      0      0   \n",
       "freq     3365  18112  14030  15964   1605  14737  15730  15764  16455  16947   \n",
       "\n",
       "        ...    X15    X16    X17    X18    X19    X20    X21    X22    X23  \\\n",
       "count   ...  30001  30001  30001  30001  30001  30001  30001  30001  30001   \n",
       "unique  ...  21549  21011  20605   7944   7900   7519   6938   6898   6940   \n",
       "top     ...      0      0      0      0      0      0      0      0      0   \n",
       "freq    ...   3195   3506   4020   5249   5396   5968   6408   6703   7173   \n",
       "\n",
       "            Y  \n",
       "count   30001  \n",
       "unique      3  \n",
       "top         0  \n",
       "freq    23364  \n",
       "\n",
       "[4 rows x 24 columns]"
      ]
     },
     "execution_count": 6,
     "metadata": {},
     "output_type": "execute_result"
    }
   ],
   "source": [
    "df.describe()"
   ]
  },
  {
   "cell_type": "code",
   "execution_count": 7,
   "metadata": {},
   "outputs": [
    {
     "data": {
      "text/plain": [
       "X1        82\n",
       "X2         3\n",
       "X3         8\n",
       "X4         5\n",
       "X5        57\n",
       "X6        12\n",
       "X7        12\n",
       "X8        12\n",
       "X9        12\n",
       "X10       11\n",
       "X11       11\n",
       "X12    22724\n",
       "X13    22347\n",
       "X14    22027\n",
       "X15    21549\n",
       "X16    21011\n",
       "X17    20605\n",
       "X18     7944\n",
       "X19     7900\n",
       "X20     7519\n",
       "X21     6938\n",
       "X22     6898\n",
       "X23     6940\n",
       "Y          3\n",
       "dtype: int64"
      ]
     },
     "execution_count": 7,
     "metadata": {},
     "output_type": "execute_result"
    }
   ],
   "source": [
    "df.nunique()"
   ]
  },
  {
   "cell_type": "markdown",
   "metadata": {},
   "source": [
    "- This function does not give me the statistics of the columns, so I need to change the types of the column."
   ]
  },
  {
   "cell_type": "code",
   "execution_count": 8,
   "metadata": {},
   "outputs": [],
   "source": [
    "new_header = df.iloc[0] # grab the first row for the header\n",
    "df = df[1:] # take the data less the header row\n",
    "df.columns = new_header # set the header row as the df header"
   ]
  },
  {
   "cell_type": "code",
   "execution_count": 9,
   "metadata": {},
   "outputs": [
    {
     "data": {
      "text/html": [
       "<div>\n",
       "<style scoped>\n",
       "    .dataframe tbody tr th:only-of-type {\n",
       "        vertical-align: middle;\n",
       "    }\n",
       "\n",
       "    .dataframe tbody tr th {\n",
       "        vertical-align: top;\n",
       "    }\n",
       "\n",
       "    .dataframe thead th {\n",
       "        text-align: right;\n",
       "    }\n",
       "</style>\n",
       "<table border=\"1\" class=\"dataframe\">\n",
       "  <thead>\n",
       "    <tr style=\"text-align: right;\">\n",
       "      <th>ID</th>\n",
       "      <th>LIMIT_BAL</th>\n",
       "      <th>SEX</th>\n",
       "      <th>EDUCATION</th>\n",
       "      <th>MARRIAGE</th>\n",
       "      <th>AGE</th>\n",
       "      <th>PAY_0</th>\n",
       "      <th>PAY_2</th>\n",
       "      <th>PAY_3</th>\n",
       "      <th>PAY_4</th>\n",
       "      <th>PAY_5</th>\n",
       "      <th>...</th>\n",
       "      <th>BILL_AMT4</th>\n",
       "      <th>BILL_AMT5</th>\n",
       "      <th>BILL_AMT6</th>\n",
       "      <th>PAY_AMT1</th>\n",
       "      <th>PAY_AMT2</th>\n",
       "      <th>PAY_AMT3</th>\n",
       "      <th>PAY_AMT4</th>\n",
       "      <th>PAY_AMT5</th>\n",
       "      <th>PAY_AMT6</th>\n",
       "      <th>default payment next month</th>\n",
       "    </tr>\n",
       "  </thead>\n",
       "  <tbody>\n",
       "    <tr>\n",
       "      <th>1</th>\n",
       "      <td>20000</td>\n",
       "      <td>2</td>\n",
       "      <td>2</td>\n",
       "      <td>1</td>\n",
       "      <td>24</td>\n",
       "      <td>2</td>\n",
       "      <td>2</td>\n",
       "      <td>-1</td>\n",
       "      <td>-1</td>\n",
       "      <td>-2</td>\n",
       "      <td>...</td>\n",
       "      <td>0</td>\n",
       "      <td>0</td>\n",
       "      <td>0</td>\n",
       "      <td>0</td>\n",
       "      <td>689</td>\n",
       "      <td>0</td>\n",
       "      <td>0</td>\n",
       "      <td>0</td>\n",
       "      <td>0</td>\n",
       "      <td>1</td>\n",
       "    </tr>\n",
       "    <tr>\n",
       "      <th>2</th>\n",
       "      <td>120000</td>\n",
       "      <td>2</td>\n",
       "      <td>2</td>\n",
       "      <td>2</td>\n",
       "      <td>26</td>\n",
       "      <td>-1</td>\n",
       "      <td>2</td>\n",
       "      <td>0</td>\n",
       "      <td>0</td>\n",
       "      <td>0</td>\n",
       "      <td>...</td>\n",
       "      <td>3272</td>\n",
       "      <td>3455</td>\n",
       "      <td>3261</td>\n",
       "      <td>0</td>\n",
       "      <td>1000</td>\n",
       "      <td>1000</td>\n",
       "      <td>1000</td>\n",
       "      <td>0</td>\n",
       "      <td>2000</td>\n",
       "      <td>1</td>\n",
       "    </tr>\n",
       "    <tr>\n",
       "      <th>3</th>\n",
       "      <td>90000</td>\n",
       "      <td>2</td>\n",
       "      <td>2</td>\n",
       "      <td>2</td>\n",
       "      <td>34</td>\n",
       "      <td>0</td>\n",
       "      <td>0</td>\n",
       "      <td>0</td>\n",
       "      <td>0</td>\n",
       "      <td>0</td>\n",
       "      <td>...</td>\n",
       "      <td>14331</td>\n",
       "      <td>14948</td>\n",
       "      <td>15549</td>\n",
       "      <td>1518</td>\n",
       "      <td>1500</td>\n",
       "      <td>1000</td>\n",
       "      <td>1000</td>\n",
       "      <td>1000</td>\n",
       "      <td>5000</td>\n",
       "      <td>0</td>\n",
       "    </tr>\n",
       "    <tr>\n",
       "      <th>4</th>\n",
       "      <td>50000</td>\n",
       "      <td>2</td>\n",
       "      <td>2</td>\n",
       "      <td>1</td>\n",
       "      <td>37</td>\n",
       "      <td>0</td>\n",
       "      <td>0</td>\n",
       "      <td>0</td>\n",
       "      <td>0</td>\n",
       "      <td>0</td>\n",
       "      <td>...</td>\n",
       "      <td>28314</td>\n",
       "      <td>28959</td>\n",
       "      <td>29547</td>\n",
       "      <td>2000</td>\n",
       "      <td>2019</td>\n",
       "      <td>1200</td>\n",
       "      <td>1100</td>\n",
       "      <td>1069</td>\n",
       "      <td>1000</td>\n",
       "      <td>0</td>\n",
       "    </tr>\n",
       "    <tr>\n",
       "      <th>5</th>\n",
       "      <td>50000</td>\n",
       "      <td>1</td>\n",
       "      <td>2</td>\n",
       "      <td>1</td>\n",
       "      <td>57</td>\n",
       "      <td>-1</td>\n",
       "      <td>0</td>\n",
       "      <td>-1</td>\n",
       "      <td>0</td>\n",
       "      <td>0</td>\n",
       "      <td>...</td>\n",
       "      <td>20940</td>\n",
       "      <td>19146</td>\n",
       "      <td>19131</td>\n",
       "      <td>2000</td>\n",
       "      <td>36681</td>\n",
       "      <td>10000</td>\n",
       "      <td>9000</td>\n",
       "      <td>689</td>\n",
       "      <td>679</td>\n",
       "      <td>0</td>\n",
       "    </tr>\n",
       "  </tbody>\n",
       "</table>\n",
       "<p>5 rows × 24 columns</p>\n",
       "</div>"
      ],
      "text/plain": [
       "ID LIMIT_BAL SEX EDUCATION MARRIAGE AGE PAY_0 PAY_2 PAY_3 PAY_4 PAY_5  ...  \\\n",
       "1      20000   2         2        1  24     2     2    -1    -1    -2  ...   \n",
       "2     120000   2         2        2  26    -1     2     0     0     0  ...   \n",
       "3      90000   2         2        2  34     0     0     0     0     0  ...   \n",
       "4      50000   2         2        1  37     0     0     0     0     0  ...   \n",
       "5      50000   1         2        1  57    -1     0    -1     0     0  ...   \n",
       "\n",
       "ID BILL_AMT4 BILL_AMT5 BILL_AMT6 PAY_AMT1 PAY_AMT2 PAY_AMT3 PAY_AMT4 PAY_AMT5  \\\n",
       "1          0         0         0        0      689        0        0        0   \n",
       "2       3272      3455      3261        0     1000     1000     1000        0   \n",
       "3      14331     14948     15549     1518     1500     1000     1000     1000   \n",
       "4      28314     28959     29547     2000     2019     1200     1100     1069   \n",
       "5      20940     19146     19131     2000    36681    10000     9000      689   \n",
       "\n",
       "ID PAY_AMT6 default payment next month  \n",
       "1         0                          1  \n",
       "2      2000                          1  \n",
       "3      5000                          0  \n",
       "4      1000                          0  \n",
       "5       679                          0  \n",
       "\n",
       "[5 rows x 24 columns]"
      ]
     },
     "execution_count": 9,
     "metadata": {},
     "output_type": "execute_result"
    }
   ],
   "source": [
    "df.head()"
   ]
  },
  {
   "cell_type": "markdown",
   "metadata": {},
   "source": [
    "### Data Cleaning\n",
    "\n",
    "- Renaming the columns in a more convenient way\n",
    "- Changing the data type of the columns as needed\n",
    "- Checking the null values and figure out how to deal with them\n",
    "- Investigating the outliers and figure out how to deal with them"
   ]
  },
  {
   "cell_type": "code",
   "execution_count": 10,
   "metadata": {},
   "outputs": [],
   "source": [
    "# renaming the columns\n",
    "column_dict = {'LIMIT_BAL': 'credit_limit', 'SEX': 'sex', 'EDUCATION': 'education', 'MARRIAGE': 'marital_status', 'AGE': 'age', \n",
    "               'PAY_0': 'pay_status_sep', 'PAY_2': 'pay_status_aug', 'PAY_3': 'pay_status_jul', 'PAY_4': 'pay_status_jun', 'PAY_5': 'pay_status_may', 'PAY_6': 'pay_status_apr', \n",
    "               'BILL_AMT1': 'bill_sep', 'BILL_AMT2': 'bill_aug', 'BILL_AMT3': 'bill_jul', 'BILL_AMT4': 'bill_jun', 'BILL_AMT5': 'bill_may', 'BILL_AMT6': 'bill_apr', \n",
    "               'PAY_AMT1': 'pay_sep', 'PAY_AMT2': 'pay_aug', 'PAY_AMT3': 'pay_jul', 'PAY_AMT4': 'pay_jun', 'PAY_AMT5': 'pay_may', 'PAY_AMT6': 'pay_apr', \n",
    "               'default payment next month': 'next_default_payment'}\n",
    "\n",
    "df = df.rename(columns = column_dict)"
   ]
  },
  {
   "cell_type": "code",
   "execution_count": 11,
   "metadata": {},
   "outputs": [
    {
     "data": {
      "text/plain": [
       "Index(['credit_limit', 'sex', 'education', 'marital_status', 'age',\n",
       "       'pay_status_sep', 'pay_status_aug', 'pay_status_jul', 'pay_status_jun',\n",
       "       'pay_status_may', 'pay_status_apr', 'bill_sep', 'bill_aug', 'bill_jul',\n",
       "       'bill_jun', 'bill_may', 'bill_apr', 'pay_sep', 'pay_aug', 'pay_jul',\n",
       "       'pay_jun', 'pay_may', 'pay_apr', 'next_default_payment'],\n",
       "      dtype='object', name='ID')"
      ]
     },
     "execution_count": 11,
     "metadata": {},
     "output_type": "execute_result"
    }
   ],
   "source": [
    "df.columns"
   ]
  },
  {
   "cell_type": "markdown",
   "metadata": {},
   "source": [
    "### Attribute Information:\n",
    "\n",
    "- credit_limit: Amount of the given credit (NT dollar). It includes both the individual consumer credit and his/her family (supplementary) credit.\n",
    "- sex: 1 = male; 2 = female\n",
    "- education: 1 = graduate school; 2 = university; 3 = high school; 4 = others\n",
    "- marital_status: 1 = married; 2 = single; 3 = others\n",
    "- age: year\n",
    "- pay_status: History of past payment from April to September 2005. The measurement scale for the repayment status is: -1 = pay duly; 1 = payment delay for one month; 2 = payment delay for two months; . . .; 8 = payment delay for eight months; 9 = payment delay for nine months and above.\n",
    "- bill_month: Amount of bill statement (NT dollar)\n",
    "- pay_month: Amount of previous payment (NT dollar)"
   ]
  },
  {
   "cell_type": "code",
   "execution_count": 12,
   "metadata": {},
   "outputs": [
    {
     "data": {
      "text/plain": [
       "35"
      ]
     },
     "execution_count": 12,
     "metadata": {},
     "output_type": "execute_result"
    }
   ],
   "source": [
    "sum(df.duplicated())"
   ]
  },
  {
   "cell_type": "markdown",
   "metadata": {},
   "source": [
    "### 35 datapoints are duplicated and need to be removed."
   ]
  },
  {
   "cell_type": "code",
   "execution_count": 13,
   "metadata": {},
   "outputs": [],
   "source": [
    "df.drop_duplicates(inplace = True)"
   ]
  },
  {
   "cell_type": "code",
   "execution_count": 14,
   "metadata": {},
   "outputs": [],
   "source": [
    "# changing the columns' dtypes\n",
    "df = df.astype('int32')"
   ]
  },
  {
   "cell_type": "code",
   "execution_count": 15,
   "metadata": {},
   "outputs": [
    {
     "name": "stdout",
     "output_type": "stream",
     "text": [
      "<class 'pandas.core.frame.DataFrame'>\n",
      "Index: 29965 entries, 1 to 30000\n",
      "Data columns (total 24 columns):\n",
      " #   Column                Non-Null Count  Dtype\n",
      "---  ------                --------------  -----\n",
      " 0   credit_limit          29965 non-null  int32\n",
      " 1   sex                   29965 non-null  int32\n",
      " 2   education             29965 non-null  int32\n",
      " 3   marital_status        29965 non-null  int32\n",
      " 4   age                   29965 non-null  int32\n",
      " 5   pay_status_sep        29965 non-null  int32\n",
      " 6   pay_status_aug        29965 non-null  int32\n",
      " 7   pay_status_jul        29965 non-null  int32\n",
      " 8   pay_status_jun        29965 non-null  int32\n",
      " 9   pay_status_may        29965 non-null  int32\n",
      " 10  pay_status_apr        29965 non-null  int32\n",
      " 11  bill_sep              29965 non-null  int32\n",
      " 12  bill_aug              29965 non-null  int32\n",
      " 13  bill_jul              29965 non-null  int32\n",
      " 14  bill_jun              29965 non-null  int32\n",
      " 15  bill_may              29965 non-null  int32\n",
      " 16  bill_apr              29965 non-null  int32\n",
      " 17  pay_sep               29965 non-null  int32\n",
      " 18  pay_aug               29965 non-null  int32\n",
      " 19  pay_jul               29965 non-null  int32\n",
      " 20  pay_jun               29965 non-null  int32\n",
      " 21  pay_may               29965 non-null  int32\n",
      " 22  pay_apr               29965 non-null  int32\n",
      " 23  next_default_payment  29965 non-null  int32\n",
      "dtypes: int32(24)\n",
      "memory usage: 3.0+ MB\n"
     ]
    }
   ],
   "source": [
    "df.info()"
   ]
  },
  {
   "cell_type": "markdown",
   "metadata": {},
   "source": [
    "### Changing the data type from \"object\" to \"int32\" decreases the memory usage from 5.7MB to 3 MB."
   ]
  },
  {
   "cell_type": "code",
   "execution_count": 16,
   "metadata": {},
   "outputs": [
    {
     "data": {
      "text/html": [
       "<div>\n",
       "<style scoped>\n",
       "    .dataframe tbody tr th:only-of-type {\n",
       "        vertical-align: middle;\n",
       "    }\n",
       "\n",
       "    .dataframe tbody tr th {\n",
       "        vertical-align: top;\n",
       "    }\n",
       "\n",
       "    .dataframe thead th {\n",
       "        text-align: right;\n",
       "    }\n",
       "</style>\n",
       "<table border=\"1\" class=\"dataframe\">\n",
       "  <thead>\n",
       "    <tr style=\"text-align: right;\">\n",
       "      <th>ID</th>\n",
       "      <th>credit_limit</th>\n",
       "      <th>sex</th>\n",
       "      <th>education</th>\n",
       "      <th>marital_status</th>\n",
       "      <th>age</th>\n",
       "      <th>pay_status_sep</th>\n",
       "      <th>pay_status_aug</th>\n",
       "      <th>pay_status_jul</th>\n",
       "      <th>pay_status_jun</th>\n",
       "      <th>pay_status_may</th>\n",
       "      <th>...</th>\n",
       "      <th>bill_jun</th>\n",
       "      <th>bill_may</th>\n",
       "      <th>bill_apr</th>\n",
       "      <th>pay_sep</th>\n",
       "      <th>pay_aug</th>\n",
       "      <th>pay_jul</th>\n",
       "      <th>pay_jun</th>\n",
       "      <th>pay_may</th>\n",
       "      <th>pay_apr</th>\n",
       "      <th>next_default_payment</th>\n",
       "    </tr>\n",
       "  </thead>\n",
       "  <tbody>\n",
       "    <tr>\n",
       "      <th>count</th>\n",
       "      <td>29965.000000</td>\n",
       "      <td>29965.000000</td>\n",
       "      <td>29965.000000</td>\n",
       "      <td>29965.000000</td>\n",
       "      <td>29965.000000</td>\n",
       "      <td>29965.000000</td>\n",
       "      <td>29965.000000</td>\n",
       "      <td>29965.000000</td>\n",
       "      <td>29965.000000</td>\n",
       "      <td>29965.000000</td>\n",
       "      <td>...</td>\n",
       "      <td>29965.000000</td>\n",
       "      <td>29965.000000</td>\n",
       "      <td>29965.000000</td>\n",
       "      <td>29965.000000</td>\n",
       "      <td>2.996500e+04</td>\n",
       "      <td>29965.000000</td>\n",
       "      <td>29965.000000</td>\n",
       "      <td>29965.000000</td>\n",
       "      <td>29965.000000</td>\n",
       "      <td>29965.000000</td>\n",
       "    </tr>\n",
       "    <tr>\n",
       "      <th>mean</th>\n",
       "      <td>167442.005006</td>\n",
       "      <td>1.603738</td>\n",
       "      <td>1.853629</td>\n",
       "      <td>1.551877</td>\n",
       "      <td>35.487969</td>\n",
       "      <td>-0.016753</td>\n",
       "      <td>-0.131854</td>\n",
       "      <td>-0.164392</td>\n",
       "      <td>-0.218922</td>\n",
       "      <td>-0.264509</td>\n",
       "      <td>...</td>\n",
       "      <td>43313.329885</td>\n",
       "      <td>40358.334390</td>\n",
       "      <td>38917.012281</td>\n",
       "      <td>5670.099316</td>\n",
       "      <td>5.927983e+03</td>\n",
       "      <td>5231.688837</td>\n",
       "      <td>4831.617454</td>\n",
       "      <td>4804.897047</td>\n",
       "      <td>5221.498014</td>\n",
       "      <td>0.221258</td>\n",
       "    </tr>\n",
       "    <tr>\n",
       "      <th>std</th>\n",
       "      <td>129760.135222</td>\n",
       "      <td>0.489128</td>\n",
       "      <td>0.790411</td>\n",
       "      <td>0.521997</td>\n",
       "      <td>9.219459</td>\n",
       "      <td>1.123492</td>\n",
       "      <td>1.196322</td>\n",
       "      <td>1.195878</td>\n",
       "      <td>1.168175</td>\n",
       "      <td>1.132220</td>\n",
       "      <td>...</td>\n",
       "      <td>64353.514373</td>\n",
       "      <td>60817.130623</td>\n",
       "      <td>59574.147742</td>\n",
       "      <td>16571.849467</td>\n",
       "      <td>2.305346e+04</td>\n",
       "      <td>17616.361124</td>\n",
       "      <td>15674.464538</td>\n",
       "      <td>15286.372298</td>\n",
       "      <td>17786.976864</td>\n",
       "      <td>0.415101</td>\n",
       "    </tr>\n",
       "    <tr>\n",
       "      <th>min</th>\n",
       "      <td>10000.000000</td>\n",
       "      <td>1.000000</td>\n",
       "      <td>0.000000</td>\n",
       "      <td>0.000000</td>\n",
       "      <td>21.000000</td>\n",
       "      <td>-2.000000</td>\n",
       "      <td>-2.000000</td>\n",
       "      <td>-2.000000</td>\n",
       "      <td>-2.000000</td>\n",
       "      <td>-2.000000</td>\n",
       "      <td>...</td>\n",
       "      <td>-170000.000000</td>\n",
       "      <td>-81334.000000</td>\n",
       "      <td>-339603.000000</td>\n",
       "      <td>0.000000</td>\n",
       "      <td>0.000000e+00</td>\n",
       "      <td>0.000000</td>\n",
       "      <td>0.000000</td>\n",
       "      <td>0.000000</td>\n",
       "      <td>0.000000</td>\n",
       "      <td>0.000000</td>\n",
       "    </tr>\n",
       "    <tr>\n",
       "      <th>25%</th>\n",
       "      <td>50000.000000</td>\n",
       "      <td>1.000000</td>\n",
       "      <td>1.000000</td>\n",
       "      <td>1.000000</td>\n",
       "      <td>28.000000</td>\n",
       "      <td>-1.000000</td>\n",
       "      <td>-1.000000</td>\n",
       "      <td>-1.000000</td>\n",
       "      <td>-1.000000</td>\n",
       "      <td>-1.000000</td>\n",
       "      <td>...</td>\n",
       "      <td>2360.000000</td>\n",
       "      <td>1787.000000</td>\n",
       "      <td>1262.000000</td>\n",
       "      <td>1000.000000</td>\n",
       "      <td>8.500000e+02</td>\n",
       "      <td>390.000000</td>\n",
       "      <td>300.000000</td>\n",
       "      <td>261.000000</td>\n",
       "      <td>131.000000</td>\n",
       "      <td>0.000000</td>\n",
       "    </tr>\n",
       "    <tr>\n",
       "      <th>50%</th>\n",
       "      <td>140000.000000</td>\n",
       "      <td>2.000000</td>\n",
       "      <td>2.000000</td>\n",
       "      <td>2.000000</td>\n",
       "      <td>34.000000</td>\n",
       "      <td>0.000000</td>\n",
       "      <td>0.000000</td>\n",
       "      <td>0.000000</td>\n",
       "      <td>0.000000</td>\n",
       "      <td>0.000000</td>\n",
       "      <td>...</td>\n",
       "      <td>19081.000000</td>\n",
       "      <td>18130.000000</td>\n",
       "      <td>17124.000000</td>\n",
       "      <td>2102.000000</td>\n",
       "      <td>2.010000e+03</td>\n",
       "      <td>1804.000000</td>\n",
       "      <td>1500.000000</td>\n",
       "      <td>1500.000000</td>\n",
       "      <td>1500.000000</td>\n",
       "      <td>0.000000</td>\n",
       "    </tr>\n",
       "    <tr>\n",
       "      <th>75%</th>\n",
       "      <td>240000.000000</td>\n",
       "      <td>2.000000</td>\n",
       "      <td>2.000000</td>\n",
       "      <td>2.000000</td>\n",
       "      <td>41.000000</td>\n",
       "      <td>0.000000</td>\n",
       "      <td>0.000000</td>\n",
       "      <td>0.000000</td>\n",
       "      <td>0.000000</td>\n",
       "      <td>0.000000</td>\n",
       "      <td>...</td>\n",
       "      <td>54601.000000</td>\n",
       "      <td>50247.000000</td>\n",
       "      <td>49252.000000</td>\n",
       "      <td>5008.000000</td>\n",
       "      <td>5.000000e+03</td>\n",
       "      <td>4512.000000</td>\n",
       "      <td>4016.000000</td>\n",
       "      <td>4042.000000</td>\n",
       "      <td>4000.000000</td>\n",
       "      <td>0.000000</td>\n",
       "    </tr>\n",
       "    <tr>\n",
       "      <th>max</th>\n",
       "      <td>1000000.000000</td>\n",
       "      <td>2.000000</td>\n",
       "      <td>6.000000</td>\n",
       "      <td>3.000000</td>\n",
       "      <td>79.000000</td>\n",
       "      <td>8.000000</td>\n",
       "      <td>8.000000</td>\n",
       "      <td>8.000000</td>\n",
       "      <td>8.000000</td>\n",
       "      <td>8.000000</td>\n",
       "      <td>...</td>\n",
       "      <td>891586.000000</td>\n",
       "      <td>927171.000000</td>\n",
       "      <td>961664.000000</td>\n",
       "      <td>873552.000000</td>\n",
       "      <td>1.684259e+06</td>\n",
       "      <td>896040.000000</td>\n",
       "      <td>621000.000000</td>\n",
       "      <td>426529.000000</td>\n",
       "      <td>528666.000000</td>\n",
       "      <td>1.000000</td>\n",
       "    </tr>\n",
       "  </tbody>\n",
       "</table>\n",
       "<p>8 rows × 24 columns</p>\n",
       "</div>"
      ],
      "text/plain": [
       "ID       credit_limit           sex     education  marital_status  \\\n",
       "count    29965.000000  29965.000000  29965.000000    29965.000000   \n",
       "mean    167442.005006      1.603738      1.853629        1.551877   \n",
       "std     129760.135222      0.489128      0.790411        0.521997   \n",
       "min      10000.000000      1.000000      0.000000        0.000000   \n",
       "25%      50000.000000      1.000000      1.000000        1.000000   \n",
       "50%     140000.000000      2.000000      2.000000        2.000000   \n",
       "75%     240000.000000      2.000000      2.000000        2.000000   \n",
       "max    1000000.000000      2.000000      6.000000        3.000000   \n",
       "\n",
       "ID              age  pay_status_sep  pay_status_aug  pay_status_jul  \\\n",
       "count  29965.000000    29965.000000    29965.000000    29965.000000   \n",
       "mean      35.487969       -0.016753       -0.131854       -0.164392   \n",
       "std        9.219459        1.123492        1.196322        1.195878   \n",
       "min       21.000000       -2.000000       -2.000000       -2.000000   \n",
       "25%       28.000000       -1.000000       -1.000000       -1.000000   \n",
       "50%       34.000000        0.000000        0.000000        0.000000   \n",
       "75%       41.000000        0.000000        0.000000        0.000000   \n",
       "max       79.000000        8.000000        8.000000        8.000000   \n",
       "\n",
       "ID     pay_status_jun  pay_status_may  ...       bill_jun       bill_may  \\\n",
       "count    29965.000000    29965.000000  ...   29965.000000   29965.000000   \n",
       "mean        -0.218922       -0.264509  ...   43313.329885   40358.334390   \n",
       "std          1.168175        1.132220  ...   64353.514373   60817.130623   \n",
       "min         -2.000000       -2.000000  ... -170000.000000  -81334.000000   \n",
       "25%         -1.000000       -1.000000  ...    2360.000000    1787.000000   \n",
       "50%          0.000000        0.000000  ...   19081.000000   18130.000000   \n",
       "75%          0.000000        0.000000  ...   54601.000000   50247.000000   \n",
       "max          8.000000        8.000000  ...  891586.000000  927171.000000   \n",
       "\n",
       "ID          bill_apr        pay_sep       pay_aug        pay_jul  \\\n",
       "count   29965.000000   29965.000000  2.996500e+04   29965.000000   \n",
       "mean    38917.012281    5670.099316  5.927983e+03    5231.688837   \n",
       "std     59574.147742   16571.849467  2.305346e+04   17616.361124   \n",
       "min   -339603.000000       0.000000  0.000000e+00       0.000000   \n",
       "25%      1262.000000    1000.000000  8.500000e+02     390.000000   \n",
       "50%     17124.000000    2102.000000  2.010000e+03    1804.000000   \n",
       "75%     49252.000000    5008.000000  5.000000e+03    4512.000000   \n",
       "max    961664.000000  873552.000000  1.684259e+06  896040.000000   \n",
       "\n",
       "ID           pay_jun        pay_may        pay_apr  next_default_payment  \n",
       "count   29965.000000   29965.000000   29965.000000          29965.000000  \n",
       "mean     4831.617454    4804.897047    5221.498014              0.221258  \n",
       "std     15674.464538   15286.372298   17786.976864              0.415101  \n",
       "min         0.000000       0.000000       0.000000              0.000000  \n",
       "25%       300.000000     261.000000     131.000000              0.000000  \n",
       "50%      1500.000000    1500.000000    1500.000000              0.000000  \n",
       "75%      4016.000000    4042.000000    4000.000000              0.000000  \n",
       "max    621000.000000  426529.000000  528666.000000              1.000000  \n",
       "\n",
       "[8 rows x 24 columns]"
      ]
     },
     "execution_count": 16,
     "metadata": {},
     "output_type": "execute_result"
    }
   ],
   "source": [
    "df.describe()"
   ]
  },
  {
   "cell_type": "code",
   "execution_count": 17,
   "metadata": {},
   "outputs": [
    {
     "data": {
      "text/plain": [
       "2    18091\n",
       "1    11874\n",
       "Name: sex, dtype: int64"
      ]
     },
     "execution_count": 17,
     "metadata": {},
     "output_type": "execute_result"
    }
   ],
   "source": [
    "df['sex'].value_counts()"
   ]
  },
  {
   "cell_type": "code",
   "execution_count": 18,
   "metadata": {},
   "outputs": [
    {
     "data": {
      "text/plain": [
       "2    14019\n",
       "1    10563\n",
       "3     4915\n",
       "5      280\n",
       "4      123\n",
       "6       51\n",
       "0       14\n",
       "Name: education, dtype: int64"
      ]
     },
     "execution_count": 18,
     "metadata": {},
     "output_type": "execute_result"
    }
   ],
   "source": [
    "df['education'].value_counts()"
   ]
  },
  {
   "cell_type": "code",
   "execution_count": 19,
   "metadata": {},
   "outputs": [
    {
     "data": {
      "text/plain": [
       "2    15945\n",
       "1    13643\n",
       "3      323\n",
       "0       54\n",
       "Name: marital_status, dtype: int64"
      ]
     },
     "execution_count": 19,
     "metadata": {},
     "output_type": "execute_result"
    }
   ],
   "source": [
    "df['marital_status'].value_counts()"
   ]
  },
  {
   "cell_type": "code",
   "execution_count": 20,
   "metadata": {},
   "outputs": [
    {
     "data": {
      "text/plain": [
       " 0    16286\n",
       "-1     5736\n",
       "-2     4865\n",
       " 2     2766\n",
       " 3      184\n",
       " 4       48\n",
       " 7       46\n",
       " 6       19\n",
       " 5       13\n",
       " 8        2\n",
       "Name: pay_status_apr, dtype: int64"
      ]
     },
     "execution_count": 20,
     "metadata": {},
     "output_type": "execute_result"
    }
   ],
   "source": [
    "df['pay_status_apr'].value_counts()"
   ]
  },
  {
   "cell_type": "markdown",
   "metadata": {},
   "source": [
    "### These columns has some undocumented values:\n",
    "1. 'education' has 3 values of 0, 5, and 6.\n",
    "2. 'marital_status' has value of 0.\n",
    "3. 'pay_status_month' has value of 0 and -2.\n",
    "4. 'bill_month' has negative values which may be considered as credit, since the corresonding 'pay_month' values are zero, which means no payment was needed. Having this said, the -2 label for 'pay_status_month' may mean no payment is needed."
   ]
  },
  {
   "cell_type": "code",
   "execution_count": 21,
   "metadata": {},
   "outputs": [
    {
     "data": {
      "text/plain": [
       "345"
      ]
     },
     "execution_count": 21,
     "metadata": {},
     "output_type": "execute_result"
    }
   ],
   "source": [
    "# 1. 'education' has 3 values of 0, 5, and 6.\n",
    "\n",
    "df[(df['education'] < 1) | (df['education'] > 4)].education.count()"
   ]
  },
  {
   "cell_type": "markdown",
   "metadata": {},
   "source": [
    "- About 1% of the 'education' column is not within the defined range of [1,4], and since that is a small portion of the data, they can be either removed or documented as \"other\". I chose to remove them."
   ]
  },
  {
   "cell_type": "code",
   "execution_count": 22,
   "metadata": {},
   "outputs": [],
   "source": [
    "df.drop(df[(df['education'] <1) | (df['education'] > 4)].index, inplace = True)"
   ]
  },
  {
   "cell_type": "code",
   "execution_count": 23,
   "metadata": {},
   "outputs": [
    {
     "data": {
      "text/plain": [
       "(29620, 24)"
      ]
     },
     "execution_count": 23,
     "metadata": {},
     "output_type": "execute_result"
    }
   ],
   "source": [
    "df.shape"
   ]
  },
  {
   "cell_type": "code",
   "execution_count": 24,
   "metadata": {},
   "outputs": [
    {
     "data": {
      "text/plain": [
       "54"
      ]
     },
     "execution_count": 24,
     "metadata": {},
     "output_type": "execute_result"
    }
   ],
   "source": [
    "# 2. 'marital_status' has value of 0.\n",
    "\n",
    "df[df['marital_status'] == 0].marital_status.count()"
   ]
  },
  {
   "cell_type": "markdown",
   "metadata": {},
   "source": [
    "- Less than 1% of the 'marital_status' column is not within the defined range of [1,3], and since that is a small portion of the data, they can be either removed or documented as \"other\". I chose to remove them."
   ]
  },
  {
   "cell_type": "code",
   "execution_count": 25,
   "metadata": {},
   "outputs": [],
   "source": [
    "df.drop(df[df['marital_status'] == 0].index, inplace = True)"
   ]
  },
  {
   "cell_type": "code",
   "execution_count": 26,
   "metadata": {},
   "outputs": [
    {
     "data": {
      "text/plain": [
       "(29566, 24)"
      ]
     },
     "execution_count": 26,
     "metadata": {},
     "output_type": "execute_result"
    }
   ],
   "source": [
    "df.shape"
   ]
  },
  {
   "cell_type": "code",
   "execution_count": 27,
   "metadata": {},
   "outputs": [
    {
     "data": {
      "text/plain": [
       "[14499, 15476, 15518, 16204, 16684, 16053]"
      ]
     },
     "execution_count": 27,
     "metadata": {},
     "output_type": "execute_result"
    }
   ],
   "source": [
    "# 3. 'pay_status_month' has value of 0 and -2.\n",
    "\n",
    "# calculate how many instances has 0 in their pay_status_month for Apr-Sep:\n",
    "\n",
    "lst = []\n",
    "for i in range(5, 11):\n",
    "    lst.append(df[df[df.columns[i]] == 0].shape[0])\n",
    "lst"
   ]
  },
  {
   "cell_type": "code",
   "execution_count": 28,
   "metadata": {},
   "outputs": [
    {
     "data": {
      "text/plain": [
       "[2699, 3692, 3997, 4257, 4449, 4776]"
      ]
     },
     "execution_count": 28,
     "metadata": {},
     "output_type": "execute_result"
    }
   ],
   "source": [
    "lst = []\n",
    "for i in range(5, 11):\n",
    "    lst.append(df[df[df.columns[i]] == -2].shape[0])\n",
    "lst"
   ]
  },
  {
   "cell_type": "markdown",
   "metadata": {},
   "source": [
    "- Large number of data has 'pay_status_month' equal to 0 and -2 which are not documented. Since the late payment starts from 1, shall I consider -2, -1 , and 0 as the ontime payment and give all of them the value of 0?\n",
    "\n",
    "- More investigations are needed."
   ]
  },
  {
   "cell_type": "code",
   "execution_count": 29,
   "metadata": {},
   "outputs": [
    {
     "data": {
      "text/html": [
       "<div>\n",
       "<style scoped>\n",
       "    .dataframe tbody tr th:only-of-type {\n",
       "        vertical-align: middle;\n",
       "    }\n",
       "\n",
       "    .dataframe tbody tr th {\n",
       "        vertical-align: top;\n",
       "    }\n",
       "\n",
       "    .dataframe thead th {\n",
       "        text-align: right;\n",
       "    }\n",
       "</style>\n",
       "<table border=\"1\" class=\"dataframe\">\n",
       "  <thead>\n",
       "    <tr style=\"text-align: right;\">\n",
       "      <th>ID</th>\n",
       "      <th>pay_status_sep</th>\n",
       "      <th>pay_status_aug</th>\n",
       "      <th>pay_status_jul</th>\n",
       "      <th>pay_status_jun</th>\n",
       "      <th>pay_status_may</th>\n",
       "      <th>pay_status_apr</th>\n",
       "      <th>bill_sep</th>\n",
       "      <th>bill_aug</th>\n",
       "      <th>bill_jul</th>\n",
       "      <th>bill_jun</th>\n",
       "      <th>bill_may</th>\n",
       "      <th>bill_apr</th>\n",
       "      <th>pay_sep</th>\n",
       "      <th>pay_aug</th>\n",
       "      <th>pay_jul</th>\n",
       "      <th>pay_jun</th>\n",
       "      <th>pay_may</th>\n",
       "      <th>pay_apr</th>\n",
       "    </tr>\n",
       "  </thead>\n",
       "  <tbody>\n",
       "    <tr>\n",
       "      <th>674</th>\n",
       "      <td>2</td>\n",
       "      <td>2</td>\n",
       "      <td>7</td>\n",
       "      <td>7</td>\n",
       "      <td>7</td>\n",
       "      <td>6</td>\n",
       "      <td>2400</td>\n",
       "      <td>2400</td>\n",
       "      <td>2400</td>\n",
       "      <td>2400</td>\n",
       "      <td>2400</td>\n",
       "      <td>1800</td>\n",
       "      <td>0</td>\n",
       "      <td>0</td>\n",
       "      <td>0</td>\n",
       "      <td>0</td>\n",
       "      <td>0</td>\n",
       "      <td>0</td>\n",
       "    </tr>\n",
       "    <tr>\n",
       "      <th>863</th>\n",
       "      <td>2</td>\n",
       "      <td>2</td>\n",
       "      <td>7</td>\n",
       "      <td>7</td>\n",
       "      <td>7</td>\n",
       "      <td>7</td>\n",
       "      <td>2450</td>\n",
       "      <td>2450</td>\n",
       "      <td>2450</td>\n",
       "      <td>2450</td>\n",
       "      <td>2450</td>\n",
       "      <td>2450</td>\n",
       "      <td>0</td>\n",
       "      <td>0</td>\n",
       "      <td>0</td>\n",
       "      <td>0</td>\n",
       "      <td>0</td>\n",
       "      <td>0</td>\n",
       "    </tr>\n",
       "    <tr>\n",
       "      <th>1147</th>\n",
       "      <td>2</td>\n",
       "      <td>2</td>\n",
       "      <td>7</td>\n",
       "      <td>7</td>\n",
       "      <td>7</td>\n",
       "      <td>7</td>\n",
       "      <td>2400</td>\n",
       "      <td>2400</td>\n",
       "      <td>2400</td>\n",
       "      <td>2400</td>\n",
       "      <td>2400</td>\n",
       "      <td>2400</td>\n",
       "      <td>0</td>\n",
       "      <td>0</td>\n",
       "      <td>0</td>\n",
       "      <td>0</td>\n",
       "      <td>0</td>\n",
       "      <td>0</td>\n",
       "    </tr>\n",
       "    <tr>\n",
       "      <th>1250</th>\n",
       "      <td>2</td>\n",
       "      <td>2</td>\n",
       "      <td>7</td>\n",
       "      <td>7</td>\n",
       "      <td>7</td>\n",
       "      <td>7</td>\n",
       "      <td>2400</td>\n",
       "      <td>2400</td>\n",
       "      <td>2400</td>\n",
       "      <td>2400</td>\n",
       "      <td>2400</td>\n",
       "      <td>2400</td>\n",
       "      <td>0</td>\n",
       "      <td>0</td>\n",
       "      <td>0</td>\n",
       "      <td>0</td>\n",
       "      <td>0</td>\n",
       "      <td>0</td>\n",
       "    </tr>\n",
       "    <tr>\n",
       "      <th>1486</th>\n",
       "      <td>2</td>\n",
       "      <td>2</td>\n",
       "      <td>7</td>\n",
       "      <td>7</td>\n",
       "      <td>7</td>\n",
       "      <td>6</td>\n",
       "      <td>2400</td>\n",
       "      <td>2400</td>\n",
       "      <td>2400</td>\n",
       "      <td>2400</td>\n",
       "      <td>2400</td>\n",
       "      <td>1800</td>\n",
       "      <td>0</td>\n",
       "      <td>0</td>\n",
       "      <td>0</td>\n",
       "      <td>0</td>\n",
       "      <td>0</td>\n",
       "      <td>0</td>\n",
       "    </tr>\n",
       "    <tr>\n",
       "      <th>1895</th>\n",
       "      <td>1</td>\n",
       "      <td>3</td>\n",
       "      <td>7</td>\n",
       "      <td>6</td>\n",
       "      <td>7</td>\n",
       "      <td>8</td>\n",
       "      <td>72652</td>\n",
       "      <td>90461</td>\n",
       "      <td>89011</td>\n",
       "      <td>96593</td>\n",
       "      <td>105083</td>\n",
       "      <td>103522</td>\n",
       "      <td>20000</td>\n",
       "      <td>0</td>\n",
       "      <td>10000</td>\n",
       "      <td>10000</td>\n",
       "      <td>0</td>\n",
       "      <td>0</td>\n",
       "    </tr>\n",
       "    <tr>\n",
       "      <th>2406</th>\n",
       "      <td>2</td>\n",
       "      <td>2</td>\n",
       "      <td>7</td>\n",
       "      <td>7</td>\n",
       "      <td>7</td>\n",
       "      <td>7</td>\n",
       "      <td>2400</td>\n",
       "      <td>2400</td>\n",
       "      <td>2400</td>\n",
       "      <td>2400</td>\n",
       "      <td>2400</td>\n",
       "      <td>2400</td>\n",
       "      <td>0</td>\n",
       "      <td>0</td>\n",
       "      <td>0</td>\n",
       "      <td>0</td>\n",
       "      <td>0</td>\n",
       "      <td>0</td>\n",
       "    </tr>\n",
       "    <tr>\n",
       "      <th>3087</th>\n",
       "      <td>2</td>\n",
       "      <td>2</td>\n",
       "      <td>7</td>\n",
       "      <td>7</td>\n",
       "      <td>7</td>\n",
       "      <td>7</td>\n",
       "      <td>300</td>\n",
       "      <td>300</td>\n",
       "      <td>300</td>\n",
       "      <td>300</td>\n",
       "      <td>300</td>\n",
       "      <td>300</td>\n",
       "      <td>0</td>\n",
       "      <td>0</td>\n",
       "      <td>0</td>\n",
       "      <td>0</td>\n",
       "      <td>0</td>\n",
       "      <td>0</td>\n",
       "    </tr>\n",
       "    <tr>\n",
       "      <th>5838</th>\n",
       "      <td>2</td>\n",
       "      <td>2</td>\n",
       "      <td>7</td>\n",
       "      <td>7</td>\n",
       "      <td>7</td>\n",
       "      <td>7</td>\n",
       "      <td>2400</td>\n",
       "      <td>2400</td>\n",
       "      <td>2400</td>\n",
       "      <td>2400</td>\n",
       "      <td>2400</td>\n",
       "      <td>2400</td>\n",
       "      <td>0</td>\n",
       "      <td>0</td>\n",
       "      <td>0</td>\n",
       "      <td>0</td>\n",
       "      <td>0</td>\n",
       "      <td>0</td>\n",
       "    </tr>\n",
       "    <tr>\n",
       "      <th>5916</th>\n",
       "      <td>2</td>\n",
       "      <td>2</td>\n",
       "      <td>7</td>\n",
       "      <td>7</td>\n",
       "      <td>7</td>\n",
       "      <td>7</td>\n",
       "      <td>150</td>\n",
       "      <td>150</td>\n",
       "      <td>150</td>\n",
       "      <td>150</td>\n",
       "      <td>150</td>\n",
       "      <td>150</td>\n",
       "      <td>0</td>\n",
       "      <td>0</td>\n",
       "      <td>0</td>\n",
       "      <td>0</td>\n",
       "      <td>0</td>\n",
       "      <td>0</td>\n",
       "    </tr>\n",
       "    <tr>\n",
       "      <th>6041</th>\n",
       "      <td>2</td>\n",
       "      <td>2</td>\n",
       "      <td>7</td>\n",
       "      <td>7</td>\n",
       "      <td>7</td>\n",
       "      <td>6</td>\n",
       "      <td>2400</td>\n",
       "      <td>2400</td>\n",
       "      <td>2400</td>\n",
       "      <td>2400</td>\n",
       "      <td>2400</td>\n",
       "      <td>1800</td>\n",
       "      <td>0</td>\n",
       "      <td>0</td>\n",
       "      <td>0</td>\n",
       "      <td>0</td>\n",
       "      <td>0</td>\n",
       "      <td>0</td>\n",
       "    </tr>\n",
       "    <tr>\n",
       "      <th>6272</th>\n",
       "      <td>2</td>\n",
       "      <td>2</td>\n",
       "      <td>7</td>\n",
       "      <td>7</td>\n",
       "      <td>7</td>\n",
       "      <td>6</td>\n",
       "      <td>2400</td>\n",
       "      <td>2400</td>\n",
       "      <td>2400</td>\n",
       "      <td>2400</td>\n",
       "      <td>2400</td>\n",
       "      <td>1800</td>\n",
       "      <td>0</td>\n",
       "      <td>0</td>\n",
       "      <td>0</td>\n",
       "      <td>0</td>\n",
       "      <td>0</td>\n",
       "      <td>0</td>\n",
       "    </tr>\n",
       "    <tr>\n",
       "      <th>7881</th>\n",
       "      <td>2</td>\n",
       "      <td>2</td>\n",
       "      <td>7</td>\n",
       "      <td>7</td>\n",
       "      <td>7</td>\n",
       "      <td>7</td>\n",
       "      <td>2400</td>\n",
       "      <td>2400</td>\n",
       "      <td>2400</td>\n",
       "      <td>2400</td>\n",
       "      <td>2400</td>\n",
       "      <td>2400</td>\n",
       "      <td>0</td>\n",
       "      <td>0</td>\n",
       "      <td>0</td>\n",
       "      <td>0</td>\n",
       "      <td>0</td>\n",
       "      <td>0</td>\n",
       "    </tr>\n",
       "    <tr>\n",
       "      <th>8431</th>\n",
       "      <td>2</td>\n",
       "      <td>2</td>\n",
       "      <td>7</td>\n",
       "      <td>7</td>\n",
       "      <td>7</td>\n",
       "      <td>7</td>\n",
       "      <td>2400</td>\n",
       "      <td>2400</td>\n",
       "      <td>2400</td>\n",
       "      <td>2400</td>\n",
       "      <td>2400</td>\n",
       "      <td>2400</td>\n",
       "      <td>0</td>\n",
       "      <td>0</td>\n",
       "      <td>0</td>\n",
       "      <td>0</td>\n",
       "      <td>0</td>\n",
       "      <td>0</td>\n",
       "    </tr>\n",
       "    <tr>\n",
       "      <th>8844</th>\n",
       "      <td>1</td>\n",
       "      <td>8</td>\n",
       "      <td>7</td>\n",
       "      <td>6</td>\n",
       "      <td>5</td>\n",
       "      <td>4</td>\n",
       "      <td>25933</td>\n",
       "      <td>25589</td>\n",
       "      <td>25234</td>\n",
       "      <td>24579</td>\n",
       "      <td>23635</td>\n",
       "      <td>22680</td>\n",
       "      <td>0</td>\n",
       "      <td>0</td>\n",
       "      <td>0</td>\n",
       "      <td>0</td>\n",
       "      <td>0</td>\n",
       "      <td>0</td>\n",
       "    </tr>\n",
       "    <tr>\n",
       "      <th>9672</th>\n",
       "      <td>2</td>\n",
       "      <td>2</td>\n",
       "      <td>7</td>\n",
       "      <td>7</td>\n",
       "      <td>7</td>\n",
       "      <td>7</td>\n",
       "      <td>2400</td>\n",
       "      <td>2400</td>\n",
       "      <td>2400</td>\n",
       "      <td>2400</td>\n",
       "      <td>2400</td>\n",
       "      <td>2400</td>\n",
       "      <td>0</td>\n",
       "      <td>0</td>\n",
       "      <td>0</td>\n",
       "      <td>0</td>\n",
       "      <td>0</td>\n",
       "      <td>0</td>\n",
       "    </tr>\n",
       "    <tr>\n",
       "      <th>10802</th>\n",
       "      <td>2</td>\n",
       "      <td>2</td>\n",
       "      <td>7</td>\n",
       "      <td>7</td>\n",
       "      <td>7</td>\n",
       "      <td>7</td>\n",
       "      <td>2400</td>\n",
       "      <td>2400</td>\n",
       "      <td>2400</td>\n",
       "      <td>2400</td>\n",
       "      <td>2400</td>\n",
       "      <td>2400</td>\n",
       "      <td>0</td>\n",
       "      <td>0</td>\n",
       "      <td>0</td>\n",
       "      <td>0</td>\n",
       "      <td>0</td>\n",
       "      <td>0</td>\n",
       "    </tr>\n",
       "    <tr>\n",
       "      <th>11207</th>\n",
       "      <td>2</td>\n",
       "      <td>2</td>\n",
       "      <td>7</td>\n",
       "      <td>7</td>\n",
       "      <td>7</td>\n",
       "      <td>7</td>\n",
       "      <td>2443</td>\n",
       "      <td>2443</td>\n",
       "      <td>2443</td>\n",
       "      <td>2443</td>\n",
       "      <td>2443</td>\n",
       "      <td>2443</td>\n",
       "      <td>0</td>\n",
       "      <td>0</td>\n",
       "      <td>0</td>\n",
       "      <td>0</td>\n",
       "      <td>0</td>\n",
       "      <td>0</td>\n",
       "    </tr>\n",
       "    <tr>\n",
       "      <th>12825</th>\n",
       "      <td>2</td>\n",
       "      <td>2</td>\n",
       "      <td>7</td>\n",
       "      <td>7</td>\n",
       "      <td>7</td>\n",
       "      <td>7</td>\n",
       "      <td>2400</td>\n",
       "      <td>2400</td>\n",
       "      <td>2400</td>\n",
       "      <td>2400</td>\n",
       "      <td>2400</td>\n",
       "      <td>2400</td>\n",
       "      <td>0</td>\n",
       "      <td>0</td>\n",
       "      <td>0</td>\n",
       "      <td>0</td>\n",
       "      <td>0</td>\n",
       "      <td>0</td>\n",
       "    </tr>\n",
       "    <tr>\n",
       "      <th>13232</th>\n",
       "      <td>2</td>\n",
       "      <td>2</td>\n",
       "      <td>7</td>\n",
       "      <td>7</td>\n",
       "      <td>6</td>\n",
       "      <td>5</td>\n",
       "      <td>2400</td>\n",
       "      <td>2400</td>\n",
       "      <td>2400</td>\n",
       "      <td>2400</td>\n",
       "      <td>1800</td>\n",
       "      <td>1200</td>\n",
       "      <td>0</td>\n",
       "      <td>0</td>\n",
       "      <td>0</td>\n",
       "      <td>0</td>\n",
       "      <td>0</td>\n",
       "      <td>0</td>\n",
       "    </tr>\n",
       "  </tbody>\n",
       "</table>\n",
       "</div>"
      ],
      "text/plain": [
       "ID     pay_status_sep  pay_status_aug  pay_status_jul  pay_status_jun  \\\n",
       "674                 2               2               7               7   \n",
       "863                 2               2               7               7   \n",
       "1147                2               2               7               7   \n",
       "1250                2               2               7               7   \n",
       "1486                2               2               7               7   \n",
       "1895                1               3               7               6   \n",
       "2406                2               2               7               7   \n",
       "3087                2               2               7               7   \n",
       "5838                2               2               7               7   \n",
       "5916                2               2               7               7   \n",
       "6041                2               2               7               7   \n",
       "6272                2               2               7               7   \n",
       "7881                2               2               7               7   \n",
       "8431                2               2               7               7   \n",
       "8844                1               8               7               6   \n",
       "9672                2               2               7               7   \n",
       "10802               2               2               7               7   \n",
       "11207               2               2               7               7   \n",
       "12825               2               2               7               7   \n",
       "13232               2               2               7               7   \n",
       "\n",
       "ID     pay_status_may  pay_status_apr  bill_sep  bill_aug  bill_jul  bill_jun  \\\n",
       "674                 7               6      2400      2400      2400      2400   \n",
       "863                 7               7      2450      2450      2450      2450   \n",
       "1147                7               7      2400      2400      2400      2400   \n",
       "1250                7               7      2400      2400      2400      2400   \n",
       "1486                7               6      2400      2400      2400      2400   \n",
       "1895                7               8     72652     90461     89011     96593   \n",
       "2406                7               7      2400      2400      2400      2400   \n",
       "3087                7               7       300       300       300       300   \n",
       "5838                7               7      2400      2400      2400      2400   \n",
       "5916                7               7       150       150       150       150   \n",
       "6041                7               6      2400      2400      2400      2400   \n",
       "6272                7               6      2400      2400      2400      2400   \n",
       "7881                7               7      2400      2400      2400      2400   \n",
       "8431                7               7      2400      2400      2400      2400   \n",
       "8844                5               4     25933     25589     25234     24579   \n",
       "9672                7               7      2400      2400      2400      2400   \n",
       "10802               7               7      2400      2400      2400      2400   \n",
       "11207               7               7      2443      2443      2443      2443   \n",
       "12825               7               7      2400      2400      2400      2400   \n",
       "13232               6               5      2400      2400      2400      2400   \n",
       "\n",
       "ID     bill_may  bill_apr  pay_sep  pay_aug  pay_jul  pay_jun  pay_may  \\\n",
       "674        2400      1800        0        0        0        0        0   \n",
       "863        2450      2450        0        0        0        0        0   \n",
       "1147       2400      2400        0        0        0        0        0   \n",
       "1250       2400      2400        0        0        0        0        0   \n",
       "1486       2400      1800        0        0        0        0        0   \n",
       "1895     105083    103522    20000        0    10000    10000        0   \n",
       "2406       2400      2400        0        0        0        0        0   \n",
       "3087        300       300        0        0        0        0        0   \n",
       "5838       2400      2400        0        0        0        0        0   \n",
       "5916        150       150        0        0        0        0        0   \n",
       "6041       2400      1800        0        0        0        0        0   \n",
       "6272       2400      1800        0        0        0        0        0   \n",
       "7881       2400      2400        0        0        0        0        0   \n",
       "8431       2400      2400        0        0        0        0        0   \n",
       "8844      23635     22680        0        0        0        0        0   \n",
       "9672       2400      2400        0        0        0        0        0   \n",
       "10802      2400      2400        0        0        0        0        0   \n",
       "11207      2443      2443        0        0        0        0        0   \n",
       "12825      2400      2400        0        0        0        0        0   \n",
       "13232      1800      1200        0        0        0        0        0   \n",
       "\n",
       "ID     pay_apr  \n",
       "674          0  \n",
       "863          0  \n",
       "1147         0  \n",
       "1250         0  \n",
       "1486         0  \n",
       "1895         0  \n",
       "2406         0  \n",
       "3087         0  \n",
       "5838         0  \n",
       "5916         0  \n",
       "6041         0  \n",
       "6272         0  \n",
       "7881         0  \n",
       "8431         0  \n",
       "8844         0  \n",
       "9672         0  \n",
       "10802        0  \n",
       "11207        0  \n",
       "12825        0  \n",
       "13232        0  "
      ]
     },
     "execution_count": 29,
     "metadata": {},
     "output_type": "execute_result"
    }
   ],
   "source": [
    "df[df['pay_status_jul'] == 7][['pay_status_sep', 'pay_status_aug', 'pay_status_jul', 'pay_status_jun',\n",
    "       'pay_status_may', 'pay_status_apr', 'bill_sep', 'bill_aug', 'bill_jul',\n",
    "       'bill_jun', 'bill_may', 'bill_apr', 'pay_sep', 'pay_aug', 'pay_jul',\n",
    "       'pay_jun', 'pay_may', 'pay_apr']].head(20)"
   ]
  },
  {
   "cell_type": "markdown",
   "metadata": {},
   "source": [
    "- The pay_status_month data seem to be inaccurate, there is no consistency for some of the instances. Therefore, I need to regenerate some columns."
   ]
  },
  {
   "cell_type": "code",
   "execution_count": 30,
   "metadata": {},
   "outputs": [],
   "source": [
    "df['default_sep'] = df['pay_sep'] - df['bill_aug']\n",
    "df['default_aug'] = df['pay_aug'] - df['bill_jul']\n",
    "df['default_jul'] = df['pay_jul'] - df['bill_jun']\n",
    "df['default_jun'] = df['pay_jun'] - df['bill_may']\n",
    "df['default_may'] = df['pay_may'] - df['bill_apr']"
   ]
  },
  {
   "cell_type": "code",
   "execution_count": 31,
   "metadata": {},
   "outputs": [],
   "source": [
    "# df[['default_sep', 'default_aug', 'default_jul', 'default_jun', 'default_may']].head()"
   ]
  },
  {
   "cell_type": "code",
   "execution_count": 32,
   "metadata": {},
   "outputs": [],
   "source": [
    "# df[['pay_sep', 'pay_aug', 'pay_jul', 'pay_jun', 'pay_may']].head()"
   ]
  },
  {
   "cell_type": "code",
   "execution_count": 33,
   "metadata": {},
   "outputs": [],
   "source": [
    "# df[['bill_aug', 'bill_jul', 'bill_jun', 'bill_may', 'bill_apr']].head()"
   ]
  },
  {
   "cell_type": "code",
   "execution_count": 34,
   "metadata": {},
   "outputs": [],
   "source": [
    "default_columns = ['default_sep', 'default_aug', 'default_jul', 'default_jun', 'default_may']\n",
    "for col in default_columns:\n",
    "    df[col][df[col] >= 0] = 0\n",
    "    df[col][df[col] < 0] = 1\n",
    "df['default_count'] = sum(df[col] for col in default_columns)"
   ]
  },
  {
   "cell_type": "code",
   "execution_count": 35,
   "metadata": {
    "scrolled": true
   },
   "outputs": [
    {
     "data": {
      "text/plain": [
       "count    29566.000000\n",
       "mean         3.263275\n",
       "std          2.125415\n",
       "min          0.000000\n",
       "25%          1.000000\n",
       "50%          5.000000\n",
       "75%          5.000000\n",
       "max          5.000000\n",
       "Name: default_count, dtype: float64"
      ]
     },
     "execution_count": 35,
     "metadata": {},
     "output_type": "execute_result"
    }
   ],
   "source": [
    "df['default_count'].describe()"
   ]
  },
  {
   "cell_type": "markdown",
   "metadata": {},
   "source": [
    "### default_sum is the column that I am going to use as a metric for the number of the defaults for each instance. Therefore, the unnccessary columns should be removed."
   ]
  },
  {
   "cell_type": "code",
   "execution_count": 36,
   "metadata": {},
   "outputs": [],
   "source": [
    "df = df.drop(['pay_status_sep', 'pay_status_aug', 'pay_status_jul', 'pay_status_jun',\n",
    "       'pay_status_may', 'pay_status_apr', 'default_sep', 'default_aug', 'default_jul', 'default_jun', 'default_may'], axis = 1)"
   ]
  },
  {
   "cell_type": "code",
   "execution_count": 37,
   "metadata": {},
   "outputs": [],
   "source": [
    "df = df[['credit_limit', 'sex', 'education', 'marital_status', 'age', 'default_count',\n",
    "         'bill_sep', 'bill_aug', 'bill_jul', 'bill_jun', 'bill_may', 'bill_apr',\n",
    "         'pay_sep', 'pay_aug', 'pay_jul', 'pay_jun', 'pay_may', 'pay_apr', 'next_default_payment']]"
   ]
  },
  {
   "cell_type": "code",
   "execution_count": 38,
   "metadata": {},
   "outputs": [
    {
     "data": {
      "text/html": [
       "<div>\n",
       "<style scoped>\n",
       "    .dataframe tbody tr th:only-of-type {\n",
       "        vertical-align: middle;\n",
       "    }\n",
       "\n",
       "    .dataframe tbody tr th {\n",
       "        vertical-align: top;\n",
       "    }\n",
       "\n",
       "    .dataframe thead th {\n",
       "        text-align: right;\n",
       "    }\n",
       "</style>\n",
       "<table border=\"1\" class=\"dataframe\">\n",
       "  <thead>\n",
       "    <tr style=\"text-align: right;\">\n",
       "      <th>ID</th>\n",
       "      <th>credit_limit</th>\n",
       "      <th>sex</th>\n",
       "      <th>education</th>\n",
       "      <th>marital_status</th>\n",
       "      <th>age</th>\n",
       "      <th>default_count</th>\n",
       "      <th>bill_sep</th>\n",
       "      <th>bill_aug</th>\n",
       "      <th>bill_jul</th>\n",
       "      <th>bill_jun</th>\n",
       "      <th>bill_may</th>\n",
       "      <th>bill_apr</th>\n",
       "      <th>pay_sep</th>\n",
       "      <th>pay_aug</th>\n",
       "      <th>pay_jul</th>\n",
       "      <th>pay_jun</th>\n",
       "      <th>pay_may</th>\n",
       "      <th>pay_apr</th>\n",
       "      <th>next_default_payment</th>\n",
       "    </tr>\n",
       "  </thead>\n",
       "  <tbody>\n",
       "    <tr>\n",
       "      <th>1</th>\n",
       "      <td>20000</td>\n",
       "      <td>2</td>\n",
       "      <td>2</td>\n",
       "      <td>1</td>\n",
       "      <td>24</td>\n",
       "      <td>1</td>\n",
       "      <td>3913</td>\n",
       "      <td>3102</td>\n",
       "      <td>689</td>\n",
       "      <td>0</td>\n",
       "      <td>0</td>\n",
       "      <td>0</td>\n",
       "      <td>0</td>\n",
       "      <td>689</td>\n",
       "      <td>0</td>\n",
       "      <td>0</td>\n",
       "      <td>0</td>\n",
       "      <td>0</td>\n",
       "      <td>1</td>\n",
       "    </tr>\n",
       "    <tr>\n",
       "      <th>2</th>\n",
       "      <td>120000</td>\n",
       "      <td>2</td>\n",
       "      <td>2</td>\n",
       "      <td>2</td>\n",
       "      <td>26</td>\n",
       "      <td>5</td>\n",
       "      <td>2682</td>\n",
       "      <td>1725</td>\n",
       "      <td>2682</td>\n",
       "      <td>3272</td>\n",
       "      <td>3455</td>\n",
       "      <td>3261</td>\n",
       "      <td>0</td>\n",
       "      <td>1000</td>\n",
       "      <td>1000</td>\n",
       "      <td>1000</td>\n",
       "      <td>0</td>\n",
       "      <td>2000</td>\n",
       "      <td>1</td>\n",
       "    </tr>\n",
       "    <tr>\n",
       "      <th>3</th>\n",
       "      <td>90000</td>\n",
       "      <td>2</td>\n",
       "      <td>2</td>\n",
       "      <td>2</td>\n",
       "      <td>34</td>\n",
       "      <td>5</td>\n",
       "      <td>29239</td>\n",
       "      <td>14027</td>\n",
       "      <td>13559</td>\n",
       "      <td>14331</td>\n",
       "      <td>14948</td>\n",
       "      <td>15549</td>\n",
       "      <td>1518</td>\n",
       "      <td>1500</td>\n",
       "      <td>1000</td>\n",
       "      <td>1000</td>\n",
       "      <td>1000</td>\n",
       "      <td>5000</td>\n",
       "      <td>0</td>\n",
       "    </tr>\n",
       "    <tr>\n",
       "      <th>4</th>\n",
       "      <td>50000</td>\n",
       "      <td>2</td>\n",
       "      <td>2</td>\n",
       "      <td>1</td>\n",
       "      <td>37</td>\n",
       "      <td>5</td>\n",
       "      <td>46990</td>\n",
       "      <td>48233</td>\n",
       "      <td>49291</td>\n",
       "      <td>28314</td>\n",
       "      <td>28959</td>\n",
       "      <td>29547</td>\n",
       "      <td>2000</td>\n",
       "      <td>2019</td>\n",
       "      <td>1200</td>\n",
       "      <td>1100</td>\n",
       "      <td>1069</td>\n",
       "      <td>1000</td>\n",
       "      <td>0</td>\n",
       "    </tr>\n",
       "    <tr>\n",
       "      <th>5</th>\n",
       "      <td>50000</td>\n",
       "      <td>1</td>\n",
       "      <td>2</td>\n",
       "      <td>1</td>\n",
       "      <td>57</td>\n",
       "      <td>4</td>\n",
       "      <td>8617</td>\n",
       "      <td>5670</td>\n",
       "      <td>35835</td>\n",
       "      <td>20940</td>\n",
       "      <td>19146</td>\n",
       "      <td>19131</td>\n",
       "      <td>2000</td>\n",
       "      <td>36681</td>\n",
       "      <td>10000</td>\n",
       "      <td>9000</td>\n",
       "      <td>689</td>\n",
       "      <td>679</td>\n",
       "      <td>0</td>\n",
       "    </tr>\n",
       "  </tbody>\n",
       "</table>\n",
       "</div>"
      ],
      "text/plain": [
       "ID  credit_limit  sex  education  marital_status  age  default_count  \\\n",
       "1          20000    2          2               1   24              1   \n",
       "2         120000    2          2               2   26              5   \n",
       "3          90000    2          2               2   34              5   \n",
       "4          50000    2          2               1   37              5   \n",
       "5          50000    1          2               1   57              4   \n",
       "\n",
       "ID  bill_sep  bill_aug  bill_jul  bill_jun  bill_may  bill_apr  pay_sep  \\\n",
       "1       3913      3102       689         0         0         0        0   \n",
       "2       2682      1725      2682      3272      3455      3261        0   \n",
       "3      29239     14027     13559     14331     14948     15549     1518   \n",
       "4      46990     48233     49291     28314     28959     29547     2000   \n",
       "5       8617      5670     35835     20940     19146     19131     2000   \n",
       "\n",
       "ID  pay_aug  pay_jul  pay_jun  pay_may  pay_apr  next_default_payment  \n",
       "1       689        0        0        0        0                     1  \n",
       "2      1000     1000     1000        0     2000                     1  \n",
       "3      1500     1000     1000     1000     5000                     0  \n",
       "4      2019     1200     1100     1069     1000                     0  \n",
       "5     36681    10000     9000      689      679                     0  "
      ]
     },
     "execution_count": 38,
     "metadata": {},
     "output_type": "execute_result"
    }
   ],
   "source": [
    "df.head()"
   ]
  },
  {
   "cell_type": "markdown",
   "metadata": {},
   "source": [
    "### The statistics of 'credit_limit'"
   ]
  },
  {
   "cell_type": "code",
   "execution_count": 39,
   "metadata": {},
   "outputs": [
    {
     "data": {
      "text/plain": [
       "50000     3329\n",
       "20000     1954\n",
       "30000     1586\n",
       "80000     1539\n",
       "200000    1494\n",
       "Name: credit_limit, dtype: int64"
      ]
     },
     "execution_count": 39,
     "metadata": {},
     "output_type": "execute_result"
    }
   ],
   "source": [
    "df['credit_limit'].value_counts().sort_values(ascending = False).head()"
   ]
  },
  {
   "cell_type": "code",
   "execution_count": 40,
   "metadata": {},
   "outputs": [
    {
     "data": {
      "text/plain": [
       "(167507.73455996753, 129956.8978636351)"
      ]
     },
     "execution_count": 40,
     "metadata": {},
     "output_type": "execute_result"
    }
   ],
   "source": [
    "df['credit_limit'].mean(), df['credit_limit'].std()"
   ]
  },
  {
   "cell_type": "code",
   "execution_count": 41,
   "metadata": {
    "scrolled": true
   },
   "outputs": [
    {
     "data": {
      "image/png": "[encoded data removed]",
      "text/plain": [
       "<Figure size 432x288 with 1 Axes>"
      ]
     },
     "metadata": {
      "needs_background": "light"
     },
     "output_type": "display_data"
    }
   ],
   "source": [
    "df['credit_limit'].hist(bins = 30);"
   ]
  },
  {
   "cell_type": "code",
   "execution_count": 42,
   "metadata": {},
   "outputs": [
    {
     "data": {
      "image/png": "[encoded data removed]",
      "text/plain": [
       "<Figure size 432x288 with 1 Axes>"
      ]
     },
     "metadata": {
      "needs_background": "light"
     },
     "output_type": "display_data"
    }
   ],
   "source": [
    "ax = sns.distplot(df['credit_limit'], kde = True, bins = 200, color = \"red\");\n",
    "ax.set(xlabel = 'Credit Limit', ylabel = 'Distribution');"
   ]
  },
  {
   "cell_type": "markdown",
   "metadata": {},
   "source": [
    "- There is a broad range associated with 'credit_limit' column."
   ]
  },
  {
   "cell_type": "markdown",
   "metadata": {},
   "source": [
    "### The statistics of 'age'"
   ]
  },
  {
   "cell_type": "code",
   "execution_count": 43,
   "metadata": {},
   "outputs": [
    {
     "data": {
      "text/plain": [
       "(35.46654941486843, 9.214820556496239)"
      ]
     },
     "execution_count": 43,
     "metadata": {},
     "output_type": "execute_result"
    }
   ],
   "source": [
    "df['age'].mean(), df['age'].std()"
   ]
  },
  {
   "cell_type": "code",
   "execution_count": 44,
   "metadata": {},
   "outputs": [
    {
     "data": {
      "image/png": "[encoded data removed]",
      "text/plain": [
       "<Figure size 432x288 with 1 Axes>"
      ]
     },
     "metadata": {
      "needs_background": "light"
     },
     "output_type": "display_data"
    }
   ],
   "source": [
    "df['age'].hist(bins = 15);"
   ]
  },
  {
   "cell_type": "code",
   "execution_count": 45,
   "metadata": {},
   "outputs": [
    {
     "data": {
      "image/png": "[encoded data removed]",
      "text/plain": [
       "<Figure size 432x288 with 1 Axes>"
      ]
     },
     "metadata": {
      "needs_background": "light"
     },
     "output_type": "display_data"
    }
   ],
   "source": [
    "sns.distplot(df['age'], kde = True, bins = 200, color = \"red\");\n",
    "ax.set(xlabel = 'Age', ylabel = 'Distribution');"
   ]
  },
  {
   "cell_type": "markdown",
   "metadata": {},
   "source": [
    "### The statistics of 'default_count'"
   ]
  },
  {
   "cell_type": "code",
   "execution_count": 46,
   "metadata": {},
   "outputs": [
    {
     "data": {
      "text/plain": [
       "(3.263275383886897, 2.125415484788962)"
      ]
     },
     "execution_count": 46,
     "metadata": {},
     "output_type": "execute_result"
    }
   ],
   "source": [
    "df['default_count'].mean(), df['default_count'].std()"
   ]
  },
  {
   "cell_type": "code",
   "execution_count": 47,
   "metadata": {
    "scrolled": true
   },
   "outputs": [
    {
     "data": {
      "image/png": "[encoded data removed]",
      "text/plain": [
       "<Figure size 432x288 with 1 Axes>"
      ]
     },
     "metadata": {
      "needs_background": "light"
     },
     "output_type": "display_data"
    }
   ],
   "source": [
    "df['default_count'].hist(bins = 6);"
   ]
  },
  {
   "cell_type": "code",
   "execution_count": 48,
   "metadata": {},
   "outputs": [],
   "source": [
    "# sns.distplot(df['default_count'], kde = True, bins = 200, color = \"red\");"
   ]
  },
  {
   "cell_type": "markdown",
   "metadata": {},
   "source": [
    "- There is a broad range associated with 'default_count' column."
   ]
  },
  {
   "cell_type": "markdown",
   "metadata": {},
   "source": [
    "### The probability of 'next_default_payment'"
   ]
  },
  {
   "cell_type": "code",
   "execution_count": 49,
   "metadata": {},
   "outputs": [
    {
     "data": {
      "text/plain": [
       "0.2231955624704052"
      ]
     },
     "execution_count": 49,
     "metadata": {},
     "output_type": "execute_result"
    }
   ],
   "source": [
    "df['next_default_payment'].mean()\n",
    "# df.query('next_default_payment == 1').shape[0]/df.shape[0]"
   ]
  },
  {
   "cell_type": "markdown",
   "metadata": {},
   "source": [
    "- About 22% of the clients have default in their next payment."
   ]
  },
  {
   "cell_type": "code",
   "execution_count": 50,
   "metadata": {},
   "outputs": [
    {
     "data": {
      "image/png": "[encoded data removed]",
      "text/plain": [
       "<Figure size 432x288 with 1 Axes>"
      ]
     },
     "metadata": {
      "needs_background": "light"
     },
     "output_type": "display_data"
    }
   ],
   "source": [
    "df['next_default_payment'].hist();"
   ]
  },
  {
   "cell_type": "markdown",
   "metadata": {},
   "source": [
    "- Some values associated to bill columns and pay columns seems to be very large, more investigations are needed to see whether they are outliers or they just belong to the customer with higher statements and payments."
   ]
  },
  {
   "cell_type": "markdown",
   "metadata": {},
   "source": [
    "## EDA"
   ]
  },
  {
   "cell_type": "markdown",
   "metadata": {},
   "source": [
    "### Step 1: Finding the correlations between attributes"
   ]
  },
  {
   "cell_type": "markdown",
   "metadata": {},
   "source": [
    "### Let's have a general idea of some feature correlations:"
   ]
  },
  {
   "cell_type": "code",
   "execution_count": 51,
   "metadata": {},
   "outputs": [
    {
     "data": {
      "text/html": [
       "<div>\n",
       "<style scoped>\n",
       "    .dataframe tbody tr th:only-of-type {\n",
       "        vertical-align: middle;\n",
       "    }\n",
       "\n",
       "    .dataframe tbody tr th {\n",
       "        vertical-align: top;\n",
       "    }\n",
       "\n",
       "    .dataframe thead th {\n",
       "        text-align: right;\n",
       "    }\n",
       "</style>\n",
       "<table border=\"1\" class=\"dataframe\">\n",
       "  <thead>\n",
       "    <tr style=\"text-align: right;\">\n",
       "      <th>ID</th>\n",
       "      <th>credit_limit</th>\n",
       "      <th>sex</th>\n",
       "      <th>education</th>\n",
       "      <th>marital_status</th>\n",
       "      <th>age</th>\n",
       "      <th>default_count</th>\n",
       "      <th>next_default_payment</th>\n",
       "    </tr>\n",
       "    <tr>\n",
       "      <th>ID</th>\n",
       "      <th></th>\n",
       "      <th></th>\n",
       "      <th></th>\n",
       "      <th></th>\n",
       "      <th></th>\n",
       "      <th></th>\n",
       "      <th></th>\n",
       "    </tr>\n",
       "  </thead>\n",
       "  <tbody>\n",
       "    <tr>\n",
       "      <th>credit_limit</th>\n",
       "      <td>1.000000</td>\n",
       "      <td>0.025079</td>\n",
       "      <td>-0.243786</td>\n",
       "      <td>-0.109697</td>\n",
       "      <td>0.144143</td>\n",
       "      <td>-0.264200</td>\n",
       "      <td>-0.154711</td>\n",
       "    </tr>\n",
       "    <tr>\n",
       "      <th>sex</th>\n",
       "      <td>0.025079</td>\n",
       "      <td>1.000000</td>\n",
       "      <td>0.012026</td>\n",
       "      <td>-0.030054</td>\n",
       "      <td>-0.091625</td>\n",
       "      <td>-0.057582</td>\n",
       "      <td>-0.039594</td>\n",
       "    </tr>\n",
       "    <tr>\n",
       "      <th>education</th>\n",
       "      <td>-0.243786</td>\n",
       "      <td>0.012026</td>\n",
       "      <td>1.000000</td>\n",
       "      <td>-0.148057</td>\n",
       "      <td>0.187473</td>\n",
       "      <td>0.157948</td>\n",
       "      <td>0.049126</td>\n",
       "    </tr>\n",
       "    <tr>\n",
       "      <th>marital_status</th>\n",
       "      <td>-0.109697</td>\n",
       "      <td>-0.030054</td>\n",
       "      <td>-0.148057</td>\n",
       "      <td>1.000000</td>\n",
       "      <td>-0.418014</td>\n",
       "      <td>0.060915</td>\n",
       "      <td>-0.026581</td>\n",
       "    </tr>\n",
       "    <tr>\n",
       "      <th>age</th>\n",
       "      <td>0.144143</td>\n",
       "      <td>-0.091625</td>\n",
       "      <td>0.187473</td>\n",
       "      <td>-0.418014</td>\n",
       "      <td>1.000000</td>\n",
       "      <td>-0.076918</td>\n",
       "      <td>0.014150</td>\n",
       "    </tr>\n",
       "    <tr>\n",
       "      <th>default_count</th>\n",
       "      <td>-0.264200</td>\n",
       "      <td>-0.057582</td>\n",
       "      <td>0.157948</td>\n",
       "      <td>0.060915</td>\n",
       "      <td>-0.076918</td>\n",
       "      <td>1.000000</td>\n",
       "      <td>0.089188</td>\n",
       "    </tr>\n",
       "    <tr>\n",
       "      <th>next_default_payment</th>\n",
       "      <td>-0.154711</td>\n",
       "      <td>-0.039594</td>\n",
       "      <td>0.049126</td>\n",
       "      <td>-0.026581</td>\n",
       "      <td>0.014150</td>\n",
       "      <td>0.089188</td>\n",
       "      <td>1.000000</td>\n",
       "    </tr>\n",
       "  </tbody>\n",
       "</table>\n",
       "</div>"
      ],
      "text/plain": [
       "ID                    credit_limit       sex  education  marital_status  \\\n",
       "ID                                                                        \n",
       "credit_limit              1.000000  0.025079  -0.243786       -0.109697   \n",
       "sex                       0.025079  1.000000   0.012026       -0.030054   \n",
       "education                -0.243786  0.012026   1.000000       -0.148057   \n",
       "marital_status           -0.109697 -0.030054  -0.148057        1.000000   \n",
       "age                       0.144143 -0.091625   0.187473       -0.418014   \n",
       "default_count            -0.264200 -0.057582   0.157948        0.060915   \n",
       "next_default_payment     -0.154711 -0.039594   0.049126       -0.026581   \n",
       "\n",
       "ID                         age  default_count  next_default_payment  \n",
       "ID                                                                   \n",
       "credit_limit          0.144143      -0.264200             -0.154711  \n",
       "sex                  -0.091625      -0.057582             -0.039594  \n",
       "education             0.187473       0.157948              0.049126  \n",
       "marital_status       -0.418014       0.060915             -0.026581  \n",
       "age                   1.000000      -0.076918              0.014150  \n",
       "default_count        -0.076918       1.000000              0.089188  \n",
       "next_default_payment  0.014150       0.089188              1.000000  "
      ]
     },
     "execution_count": 51,
     "metadata": {},
     "output_type": "execute_result"
    }
   ],
   "source": [
    "corrMatrix = df[['credit_limit', 'sex', 'education', 'marital_status', 'age', 'default_count', 'next_default_payment']].corr(method = 'pearson')\n",
    "corrMatrix"
   ]
  },
  {
   "cell_type": "code",
   "execution_count": 52,
   "metadata": {},
   "outputs": [],
   "source": [
    "# cmap = sns.cm.rocket_r\n",
    "# A = sns.heatmap(corrMatrix, annot = True, annot_kws = {\"size\": 14}, fmt = '0.2f', cbar_kws = {'label' : 'Feature Correlation'});\n",
    "# plt.xlabel('Features') \n",
    "# plt.ylabel('Features') \n",
    "# plt.title('Feature Correlation');\n",
    "# A.set_ylim(0, corrMatrix.shape[1]);\n",
    "# labels = [col for col in corrMatrix.columns]\n",
    "# labels = ['Credit Limit', 'Sex', 'Education', 'Marital Status', 'Age', 'default_sum', 'Next Default Payment'];\n",
    "# plt.xticks(rotation = 90);\n",
    "# plt.yticks(rotation = 0);\n",
    "# A.set_xticklabels(labels);\n",
    "# A.set_yticklabels(labels);\n",
    "# A.invert_yaxis()"
   ]
  },
  {
   "cell_type": "markdown",
   "metadata": {},
   "source": [
    "### Multicollinearity is not observed among any of this features, but we may need more correlation with feature engineering."
   ]
  },
  {
   "cell_type": "code",
   "execution_count": 53,
   "metadata": {},
   "outputs": [],
   "source": [
    "# scatter_matrix(corrMatrix, figsize = (10, 10));"
   ]
  },
  {
   "cell_type": "code",
   "execution_count": 54,
   "metadata": {},
   "outputs": [
    {
     "data": {
      "text/plain": [
       "[-0.12581410178442187,\n",
       " -0.15953511984167068,\n",
       " -0.1459269409362515,\n",
       " -0.1694225386700357]"
      ]
     },
     "execution_count": 54,
     "metadata": {},
     "output_type": "execute_result"
    }
   ],
   "source": [
    "education_corr = []\n",
    "for i in range(1, 5):\n",
    "    education_corr.append(df[(df['education'] == i)]['credit_limit'].corr(df[(df['education'] == i)]['next_default_payment']))\n",
    "\n",
    "education_corr"
   ]
  },
  {
   "cell_type": "code",
   "execution_count": 55,
   "metadata": {},
   "outputs": [
    {
     "data": {
      "text/plain": [
       "[-0.16324945939493693, -0.15381292183772383, -0.15074227583607594]"
      ]
     },
     "execution_count": 55,
     "metadata": {},
     "output_type": "execute_result"
    }
   ],
   "source": [
    "marital_corr = []\n",
    "for i in range(1, 4):\n",
    "    marital_corr.append(df[(df['marital_status'] == i)]['credit_limit'].corr(df[(df['marital_status'] == i)]['next_default_payment']))\n",
    "\n",
    "marital_corr"
   ]
  },
  {
   "cell_type": "code",
   "execution_count": 56,
   "metadata": {},
   "outputs": [
    {
     "data": {
      "text/plain": [
       "[-0.15742697606636852, -0.15124939584144328]"
      ]
     },
     "execution_count": 56,
     "metadata": {},
     "output_type": "execute_result"
    }
   ],
   "source": [
    "sex_corr = []\n",
    "for i in range(1, 3):\n",
    "    sex_corr.append(df[(df['sex'] == i)]['credit_limit'].corr(df[(df['sex'] == i)]['next_default_payment']))\n",
    "\n",
    "sex_corr"
   ]
  },
  {
   "cell_type": "markdown",
   "metadata": {},
   "source": [
    "### Investigating the attributes correlations in more detail:"
   ]
  },
  {
   "cell_type": "code",
   "execution_count": 57,
   "metadata": {
    "scrolled": true
   },
   "outputs": [
    {
     "data": {
      "image/png": "[encoded data removed]",
      "text/plain": [
       "<Figure size 432x288 with 1 Axes>"
      ]
     },
     "metadata": {
      "needs_background": "light"
     },
     "output_type": "display_data"
    }
   ],
   "source": [
    "# Mean of credit limit for each education level\n",
    "df.groupby('education')['credit_limit'].mean().plot(kind='bar');"
   ]
  },
  {
   "cell_type": "code",
   "execution_count": 58,
   "metadata": {
    "scrolled": true
   },
   "outputs": [
    {
     "data": {
      "image/png": "[encoded data removed]",
      "text/plain": [
       "<Figure size 432x288 with 1 Axes>"
      ]
     },
     "metadata": {
      "needs_background": "light"
     },
     "output_type": "display_data"
    }
   ],
   "source": [
    "df_education = df.groupby(['education', 'next_default_payment']).size()\n",
    "df_education.unstack(1).plot(kind='bar', stacked = False);\n",
    "del df_education\n",
    "plt.xlabel('');\n",
    "plt.ylabel('Count');\n",
    "plt.xticks(np.arange(4), ['Graduate School', 'University', 'High School', 'Others'])\n",
    "plt.xticks(rotation = 30, horizontalalignment = 'right')\n",
    "plt.legend(['Non-default', 'Default']);\n",
    "plt.savefig('../figure/barplot_education')"
   ]
  },
  {
   "cell_type": "code",
   "execution_count": 59,
   "metadata": {},
   "outputs": [
    {
     "data": {
      "text/plain": [
       "-0.24378597191286405"
      ]
     },
     "execution_count": 59,
     "metadata": {},
     "output_type": "execute_result"
    }
   ],
   "source": [
    "df['credit_limit'].corr(df['education'], method='pearson')"
   ]
  },
  {
   "cell_type": "code",
   "execution_count": 60,
   "metadata": {},
   "outputs": [
    {
     "data": {
      "text/plain": [
       "0.04912592265803396"
      ]
     },
     "execution_count": 60,
     "metadata": {},
     "output_type": "execute_result"
    }
   ],
   "source": [
    "df['next_default_payment'].corr(df['education'])"
   ]
  },
  {
   "cell_type": "code",
   "execution_count": 61,
   "metadata": {},
   "outputs": [],
   "source": [
    "# plt.scatter(df['education'], df['credit_limit']);"
   ]
  },
  {
   "cell_type": "markdown",
   "metadata": {},
   "source": [
    "### Observation #1: The higher the education, the more the credit line. education = 4 is not clear though."
   ]
  },
  {
   "cell_type": "code",
   "execution_count": 62,
   "metadata": {},
   "outputs": [
    {
     "data": {
      "image/png": "[encoded data removed]",
      "text/plain": [
       "<Figure size 432x288 with 1 Axes>"
      ]
     },
     "metadata": {
      "needs_background": "light"
     },
     "output_type": "display_data"
    }
   ],
   "source": [
    "df.groupby('sex')['credit_limit'].mean().plot(kind='bar');"
   ]
  },
  {
   "cell_type": "code",
   "execution_count": 63,
   "metadata": {},
   "outputs": [
    {
     "data": {
      "image/png": "[encoded data removed]",
      "text/plain": [
       "<Figure size 432x288 with 1 Axes>"
      ]
     },
     "metadata": {
      "needs_background": "light"
     },
     "output_type": "display_data"
    }
   ],
   "source": [
    "df_sex = df.groupby(['sex', 'next_default_payment']).size()\n",
    "df_sex.unstack(1).plot(kind = 'bar', stacked = False);\n",
    "del df_sex\n",
    "plt.xlabel('')\n",
    "plt.ylabel('Count');\n",
    "plt.xticks(np.arange(2), ['Male', 'Female'])\n",
    "plt.xticks(rotation=0)\n",
    "plt.legend(['Non-default', 'Default']);\n",
    "plt.savefig('../figure/barplot_data')"
   ]
  },
  {
   "cell_type": "code",
   "execution_count": 64,
   "metadata": {},
   "outputs": [
    {
     "data": {
      "text/plain": [
       "0.025079298588694454"
      ]
     },
     "execution_count": 64,
     "metadata": {},
     "output_type": "execute_result"
    }
   ],
   "source": [
    "df['credit_limit'].corr(df['sex'], method = 'pearson')"
   ]
  },
  {
   "cell_type": "code",
   "execution_count": 65,
   "metadata": {},
   "outputs": [
    {
     "data": {
      "text/plain": [
       "-0.03959351869094116"
      ]
     },
     "execution_count": 65,
     "metadata": {},
     "output_type": "execute_result"
    }
   ],
   "source": [
    "df['next_default_payment'].corr(df['sex'], method = 'kendall')"
   ]
  },
  {
   "cell_type": "code",
   "execution_count": 66,
   "metadata": {},
   "outputs": [
    {
     "data": {
      "text/plain": [
       "-0.03959351869094115"
      ]
     },
     "execution_count": 66,
     "metadata": {},
     "output_type": "execute_result"
    }
   ],
   "source": [
    "df['next_default_payment'].corr(df['sex'], method = 'spearman')"
   ]
  },
  {
   "cell_type": "markdown",
   "metadata": {},
   "source": [
    "### Observation #2: The sex attribute does not have any correlation with the credit limit."
   ]
  },
  {
   "cell_type": "code",
   "execution_count": 67,
   "metadata": {},
   "outputs": [],
   "source": [
    "# temp = df.groupby('marital_status')['credit_limit'].mean().plot(kind = 'bar') "
   ]
  },
  {
   "cell_type": "code",
   "execution_count": 68,
   "metadata": {},
   "outputs": [
    {
     "data": {
      "image/png": "[encoded data removed]",
      "text/plain": [
       "<Figure size 432x288 with 1 Axes>"
      ]
     },
     "metadata": {
      "needs_background": "light"
     },
     "output_type": "display_data"
    }
   ],
   "source": [
    "df_marital_status = df.groupby(['marital_status', 'next_default_payment']).size()\n",
    "df_marital_status.unstack(1).plot(kind = 'bar', stacked = False);\n",
    "del df_marital_status\n",
    "plt.xlabel('');\n",
    "plt.ylabel('Count');\n",
    "plt.xticks(np.arange(3), ['Married', 'Single', 'Others'])\n",
    "plt.xticks(rotation = 30, horizontalalignment = 'right')\n",
    "plt.legend(['Non-default', 'Default']);\n",
    "plt.savefig('../figure/barplot_marital')"
   ]
  },
  {
   "cell_type": "code",
   "execution_count": 69,
   "metadata": {},
   "outputs": [
    {
     "data": {
      "text/plain": [
       "-0.1096965619671684"
      ]
     },
     "execution_count": 69,
     "metadata": {},
     "output_type": "execute_result"
    }
   ],
   "source": [
    "df['credit_limit'].corr(df['marital_status'])"
   ]
  },
  {
   "cell_type": "code",
   "execution_count": 70,
   "metadata": {},
   "outputs": [
    {
     "data": {
      "text/plain": [
       "-0.026580538040758005"
      ]
     },
     "execution_count": 70,
     "metadata": {},
     "output_type": "execute_result"
    }
   ],
   "source": [
    "df['next_default_payment'].corr(df['marital_status'])"
   ]
  },
  {
   "cell_type": "markdown",
   "metadata": {},
   "source": [
    "### Observation #3: Married clients seem to have higher credit line. That makes sense as the credit_line attribute includes the individual consumer credit and his/her family (supplementary) credit."
   ]
  },
  {
   "cell_type": "code",
   "execution_count": 71,
   "metadata": {},
   "outputs": [
    {
     "data": {
      "image/png": "[encoded data removed]",
      "text/plain": [
       "<Figure size 432x288 with 1 Axes>"
      ]
     },
     "metadata": {
      "needs_background": "light"
     },
     "output_type": "display_data"
    }
   ],
   "source": [
    "df_marital_status = df.groupby(['default_count', 'next_default_payment']).size()\n",
    "df_marital_status.unstack(1).plot(kind = 'bar', stacked = False);\n",
    "del df_marital_status\n",
    "plt.xlabel(r'$\\#$ default month');\n",
    "plt.ylabel('Count');\n",
    "plt.xticks(np.arange(0,6))\n",
    "plt.xticks(rotation = 360 , horizontalalignment = 'right')\n",
    "plt.legend(['Non-default', 'Default']);\n",
    "plt.savefig('../figure/barplot_previous_default_count')"
   ]
  },
  {
   "cell_type": "code",
   "execution_count": 72,
   "metadata": {},
   "outputs": [
    {
     "data": {
      "text/plain": [
       "0.14414251967621422"
      ]
     },
     "execution_count": 72,
     "metadata": {},
     "output_type": "execute_result"
    }
   ],
   "source": [
    "df['credit_limit'].corr(df['age'])"
   ]
  },
  {
   "cell_type": "code",
   "execution_count": 73,
   "metadata": {},
   "outputs": [
    {
     "data": {
      "text/plain": [
       "0.014150420546392605"
      ]
     },
     "execution_count": 73,
     "metadata": {},
     "output_type": "execute_result"
    }
   ],
   "source": [
    "df['next_default_payment'].corr(df['age'])"
   ]
  },
  {
   "cell_type": "code",
   "execution_count": 74,
   "metadata": {},
   "outputs": [],
   "source": [
    "# plt.scatter(df['age'], df['credit_limit']); "
   ]
  },
  {
   "cell_type": "code",
   "execution_count": 75,
   "metadata": {},
   "outputs": [
    {
     "data": {
      "image/png": "[encoded data removed]",
      "text/plain": [
       "<Figure size 432x288 with 1 Axes>"
      ]
     },
     "metadata": {
      "needs_background": "light"
     },
     "output_type": "display_data"
    }
   ],
   "source": [
    "plt.plot(df['age'], df['credit_limit'], linestyle='', marker='o', markersize=1);"
   ]
  },
  {
   "cell_type": "markdown",
   "metadata": {},
   "source": [
    "### Observation #4: There is no significant correlation between age and the credit limit."
   ]
  },
  {
   "cell_type": "code",
   "execution_count": 76,
   "metadata": {},
   "outputs": [],
   "source": [
    "# g = sns.FacetGrid(data = df, col = 'sex', col_wrap = 2, margin_titles = True)\n",
    "# g.map(plt.scatter,'education', 'credit_limit')\n",
    "# g.fig.subplots_adjust(top = 0.8)\n",
    "# g.fig.suptitle('Credit Limit vs Education', fontsize = 20)\n",
    "# g.add_legend();"
   ]
  },
  {
   "cell_type": "markdown",
   "metadata": {},
   "source": [
    "### Let's break the dataframe into two, one with 'next_default_payment' = 0 and one with 'next_default_payment' = 1 and do the EDA for these two groups."
   ]
  },
  {
   "cell_type": "code",
   "execution_count": 77,
   "metadata": {},
   "outputs": [],
   "source": [
    "# temp1 = df[df['next_default_payment'] == 0]\n",
    "# temp2 = df[df['next_default_payment'] == 1]\n",
    "# temp_col = ['credit_limit', 'sex', 'education', 'marital_status', 'age', 'default_count']\n",
    "\n",
    "# f, axs = plt.subplots(2, 3, figsize = (10, 5), sharex = False, sharey = False)\n",
    "# for i, axs in enumerate(axs.flatten()):\n",
    "#     sns.distplot(temp1[temp_col[i]], kde = True, bins = 200, color = \"red\", ax = axs, label = 'Non-default');\n",
    "#     sns.distplot(temp2[temp_col[i]], kde = True, bins = 200, color = \"blue\", ax = axs, label = 'Default');\n",
    "#     axs.legend(labels = ['Non-default','Default'], loc='upper right')\n",
    "    \n",
    "# del temp1\n",
    "# del temp2\n",
    "# del temp_col"
   ]
  },
  {
   "cell_type": "code",
   "execution_count": 78,
   "metadata": {},
   "outputs": [],
   "source": [
    "# temp_col = ['credit_limit', 'sex', 'education', 'marital_status', 'age', 'default_count']\n",
    "# temp_col_default = ['credit_limit', 'sex', 'education', 'marital_status', 'age', 'default_count', 'next_default_payment']\n",
    "# temp_df = df[temp_col_default]\n",
    "# temp_df = temp_df.melt(['next_default_payment'], var_name = 'cols',  value_name = 'vals')\n",
    "# g = sns.FacetGrid(temp_df, col = 'cols', hue = \"next_default_payment\", palette = \"Set1\", col_wrap = 3, sharex = False, sharey = False);\n",
    "# g = (g.map(sns.distplot, \"vals\", hist = False, rug = True));\n",
    "# g.add_legend(labels = ['Non-default', 'Default']);\n",
    "\n",
    "# del temp_df\n",
    "# del temp_col_default"
   ]
  },
  {
   "cell_type": "code",
   "execution_count": 79,
   "metadata": {},
   "outputs": [
    {
     "data": {
      "image/png": "[encoded data removed]",
      "text/plain": [
       "<Figure size 432x288 with 1 Axes>"
      ]
     },
     "metadata": {
      "needs_background": "light"
     },
     "output_type": "display_data"
    }
   ],
   "source": [
    "df_def = df[df['next_default_payment'] == 1]\n",
    "df_non_def = df[df['next_default_payment'] == 0]\n",
    "\n",
    "sns.distplot(df_def['credit_limit'], kde = True, bins = 200, color = \"red\", hist = False, rug = True);\n",
    "sns.distplot(df_non_def['credit_limit'], kde = True, bins = 200, color = \"blue\", hist = False, rug = True);\n",
    "plt.xlabel('Credit Limit');\n",
    "plt.legend(['Default', 'Non-default']);\n",
    "plt.savefig('../figure/normalized_credit_limit')"
   ]
  },
  {
   "cell_type": "code",
   "execution_count": 80,
   "metadata": {},
   "outputs": [
    {
     "data": {
      "image/png": "[encoded data removed]",
      "text/plain": [
       "<Figure size 432x288 with 1 Axes>"
      ]
     },
     "metadata": {
      "needs_background": "light"
     },
     "output_type": "display_data"
    }
   ],
   "source": [
    "df_def = df[df['next_default_payment'] == 1]\n",
    "df_non_def = df[df['next_default_payment'] == 0]\n",
    "\n",
    "sns.distplot(df_def['sex'], kde = True, bins = 200, color = \"red\", hist = False, rug = True);\n",
    "sns.distplot(df_non_def['sex'], kde = True, bins = 200, color = \"blue\", hist = False, rug = True);\n",
    "plt.legend(['Default', 'Non-default']);\n",
    "plt.xlabel(\"\")\n",
    "plt.xticks(np.arange(3), ['.', 'Male', 'Female'])\n",
    "plt.savefig('../figure/normalized_sex')"
   ]
  },
  {
   "cell_type": "code",
   "execution_count": 81,
   "metadata": {},
   "outputs": [
    {
     "data": {
      "image/png": "[encoded data removed]",
      "text/plain": [
       "<Figure size 432x288 with 1 Axes>"
      ]
     },
     "metadata": {
      "needs_background": "light"
     },
     "output_type": "display_data"
    }
   ],
   "source": [
    "df_def = df[df['next_default_payment'] == 1]\n",
    "df_non_def = df[df['next_default_payment'] == 0]\n",
    "\n",
    "sns.distplot(df_def['education'], kde = True, bins = 200, color = \"red\", hist = False, rug = True);\n",
    "sns.distplot(df_non_def['education'], kde = True, bins = 200, color = \"blue\", hist = False, rug = True);\n",
    "plt.legend(['Default', 'Non-default']);\n",
    "plt.xlabel(\"\")\n",
    "plt.xticks(rotation = 30, horizontalalignment = 'right')\n",
    "plt.xticks(np.arange(5), ['.', 'Graduate School', 'University', 'High School', 'Others'])\n",
    "plt.savefig('../figure/normalized_education')\n"
   ]
  },
  {
   "cell_type": "code",
   "execution_count": 82,
   "metadata": {},
   "outputs": [
    {
     "data": {
      "image/png": "[encoded data removed]",
      "text/plain": [
       "<Figure size 432x288 with 1 Axes>"
      ]
     },
     "metadata": {
      "needs_background": "light"
     },
     "output_type": "display_data"
    }
   ],
   "source": [
    "df_def = df[df['next_default_payment'] == 1]\n",
    "df_non_def = df[df['next_default_payment'] == 0]\n",
    "\n",
    "sns.distplot(df_def['marital_status'], kde = True, bins = 200, color = \"red\", hist = False, rug = True);\n",
    "sns.distplot(df_non_def['marital_status'], kde = True, bins = 200, color = \"blue\", hist = False, rug = True);\n",
    "plt.legend(['Default', 'Non-default']);\n",
    "plt.xlabel('');\n",
    "plt.xticks(rotation = 30, horizontalalignment = 'right')\n",
    "plt.xticks(np.arange(4), ['.', 'Married', 'Single', 'Others'])\n",
    "plt.savefig('../figure/normalized_marital')\n"
   ]
  },
  {
   "cell_type": "code",
   "execution_count": 83,
   "metadata": {},
   "outputs": [
    {
     "data": {
      "image/png": "[encoded data removed]",
      "text/plain": [
       "<Figure size 432x288 with 1 Axes>"
      ]
     },
     "metadata": {
      "needs_background": "light"
     },
     "output_type": "display_data"
    }
   ],
   "source": [
    "df_def = df[df['next_default_payment'] == 1]\n",
    "df_non_def = df[df['next_default_payment'] == 0]\n",
    "\n",
    "sns.distplot(df_def['age'], kde = True, bins = 200, color = \"red\", hist = False, rug = True);\n",
    "sns.distplot(df_non_def['age'], kde = True, bins = 200, color = \"blue\", hist = False, rug = True);\n",
    "plt.legend(['Default', 'Non-default']);\n",
    "plt.xlabel('Age');\n"
   ]
  },
  {
   "cell_type": "code",
   "execution_count": 84,
   "metadata": {},
   "outputs": [
    {
     "data": {
      "image/png": "[encoded data removed]",
      "text/plain": [
       "<Figure size 432x288 with 1 Axes>"
      ]
     },
     "metadata": {
      "needs_background": "light"
     },
     "output_type": "display_data"
    }
   ],
   "source": [
    "df_def = df[df['next_default_payment'] == 1]\n",
    "df_non_def = df[df['next_default_payment'] == 0]\n",
    "\n",
    "sns.distplot(df_def['default_count'], kde = True, bins = 200, color = \"red\", hist = False, rug = True);\n",
    "sns.distplot(df_non_def['default_count'], kde = True, bins = 200, color = \"blue\", hist = False, rug = True);\n",
    "plt.legend(['Default', 'Non-default']);\n",
    "plt.xticks(np.arange(0,6))\n",
    "plt.xlabel(r'$\\#$ default month');"
   ]
  },
  {
   "cell_type": "markdown",
   "metadata": {},
   "source": [
    "### Observations #5: \n",
    "> Comapring the above plots for the average of the attributes shows that: \n",
    "- The clients with no default have lower credit line for the lower range while they have higher credit line for the lower range.\n",
    "- The female clients with no default are more than the male clients.\n",
    "- The educated clients with no default are more than the clients with less education.\n",
    "- The single clients with no default are more than the married ones.\n",
    "- The age does not seem to be a contributor, as its distribution for both categories are close. The combination of age and other attributes may be an important driver though."
   ]
  },
  {
   "cell_type": "markdown",
   "metadata": {},
   "source": [
    "### Feature Engineering\n",
    "- I may be able to define a new parameter which is the combination of existing parameters, like age and sex, age and marital_status, sex and marital_status.\n",
    "- The new feature can also be defined by performing some calculations on the existing columns. One of the parameters that seems interesting to me is the credit utilization in each month (balance divded by credit line) or maybe the average of all utilizations for each client."
   ]
  },
  {
   "cell_type": "code",
   "execution_count": 85,
   "metadata": {},
   "outputs": [],
   "source": [
    "# Defining credit utilization\n",
    "df['credit_usage'] = (df['bill_aug'] + df['bill_jul'] + df['bill_jun'] + df['bill_may'] + df['bill_apr']) / 5 / df['credit_limit']"
   ]
  },
  {
   "cell_type": "code",
   "execution_count": 86,
   "metadata": {},
   "outputs": [
    {
     "data": {
      "text/plain": [
       "count    29566.000000\n",
       "mean         0.362934\n",
       "std          0.348708\n",
       "min         -0.393500\n",
       "25%          0.026626\n",
       "50%          0.266288\n",
       "75%          0.666526\n",
       "max          5.146110\n",
       "Name: credit_usage, dtype: float64"
      ]
     },
     "execution_count": 86,
     "metadata": {},
     "output_type": "execute_result"
    }
   ],
   "source": [
    "df['credit_usage'].describe()"
   ]
  },
  {
   "cell_type": "code",
   "execution_count": 87,
   "metadata": {},
   "outputs": [
    {
     "data": {
      "text/plain": [
       "627"
      ]
     },
     "execution_count": 87,
     "metadata": {},
     "output_type": "execute_result"
    }
   ],
   "source": [
    "df[df['credit_usage'] > 1]['credit_usage'].count()"
   ]
  },
  {
   "cell_type": "markdown",
   "metadata": {},
   "source": [
    "### The data shows that 627 clients have their bill more than their credit line which in non-sense. So I need to check how this works for each month. These should be cleaned."
   ]
  },
  {
   "cell_type": "code",
   "execution_count": 88,
   "metadata": {},
   "outputs": [
    {
     "data": {
      "text/plain": [
       "792"
      ]
     },
     "execution_count": 88,
     "metadata": {},
     "output_type": "execute_result"
    }
   ],
   "source": [
    "# Number of clients who has their April statement more than their credit limit\n",
    "df[df['bill_apr'] > df['credit_limit']]['credit_limit'].count()"
   ]
  },
  {
   "cell_type": "code",
   "execution_count": 89,
   "metadata": {},
   "outputs": [
    {
     "data": {
      "text/plain": [
       "807"
      ]
     },
     "execution_count": 89,
     "metadata": {},
     "output_type": "execute_result"
    }
   ],
   "source": [
    "# Number of clients who have their May statement more than their credit limit\n",
    "df[df['bill_may'] > df['credit_limit']]['credit_limit'].count()"
   ]
  },
  {
   "cell_type": "code",
   "execution_count": 90,
   "metadata": {},
   "outputs": [
    {
     "data": {
      "text/plain": [
       "999"
      ]
     },
     "execution_count": 90,
     "metadata": {},
     "output_type": "execute_result"
    }
   ],
   "source": [
    "# Number of clients who have their June statement more than their credit limit\n",
    "df[df['bill_jun'] > df['credit_limit']]['credit_limit'].count()"
   ]
  },
  {
   "cell_type": "code",
   "execution_count": 91,
   "metadata": {},
   "outputs": [
    {
     "data": {
      "text/plain": [
       "1553"
      ]
     },
     "execution_count": 91,
     "metadata": {},
     "output_type": "execute_result"
    }
   ],
   "source": [
    "# Number of clients who have their July statement more than their credit limit\n",
    "df[df['bill_jul'] > df['credit_limit']]['credit_limit'].count()"
   ]
  },
  {
   "cell_type": "code",
   "execution_count": 92,
   "metadata": {},
   "outputs": [
    {
     "data": {
      "text/plain": [
       "1907"
      ]
     },
     "execution_count": 92,
     "metadata": {},
     "output_type": "execute_result"
    }
   ],
   "source": [
    "# Number of clients who have their August statement more than their credit limit\n",
    "df[df['bill_aug'] > df['credit_limit']]['credit_limit'].count()"
   ]
  },
  {
   "cell_type": "code",
   "execution_count": 93,
   "metadata": {},
   "outputs": [
    {
     "data": {
      "text/plain": [
       "3869"
      ]
     },
     "execution_count": 93,
     "metadata": {},
     "output_type": "execute_result"
    }
   ],
   "source": [
    "# Number of clients who have one of their April-August statements more than their credit limit\n",
    "\n",
    "df[(df['bill_apr'] > df['credit_limit']) | (df['bill_may'] > df['credit_limit']) |(df['bill_jun'] > df['credit_limit']) | (df['bill_jul'] > df['credit_limit']) | (df['bill_aug'] > df['credit_limit']) | (df['bill_sep'] > df['credit_limit'])]['credit_limit'].count()\n"
   ]
  },
  {
   "cell_type": "code",
   "execution_count": 94,
   "metadata": {},
   "outputs": [
    {
     "data": {
      "text/plain": [
       "181"
      ]
     },
     "execution_count": 94,
     "metadata": {},
     "output_type": "execute_result"
    }
   ],
   "source": [
    "# Number of clients who have all of their April-August statements more than their credit limit\n",
    "df[(df['bill_apr'] > df['credit_limit']) & (df['bill_may'] > df['credit_limit']) & (df['bill_jun'] > df['credit_limit']) & (df['bill_jul'] > df['credit_limit']) & (df['bill_aug'] > df['credit_limit']) & (df['bill_sep'] > df['credit_limit'])]['credit_limit'].count()\n"
   ]
  },
  {
   "cell_type": "markdown",
   "metadata": {},
   "source": [
    "### I will make an assumption that their credit line got decreased at the time of collecting the data."
   ]
  },
  {
   "cell_type": "markdown",
   "metadata": {},
   "source": [
    "### Grouping \"sex\" and \"marital_status\""
   ]
  },
  {
   "cell_type": "code",
   "execution_count": 95,
   "metadata": {},
   "outputs": [],
   "source": [
    "# # sm column refers to \"sex\"-\"marital_status\" feature:\n",
    "\n",
    "# df.loc[((df['sex'] == 1) & (df['marital_status'] == 1)) , 'sm'] = 1 # married male\n",
    "# df.loc[((df['sex'] == 1) & (df['marital_status'] == 2)) , 'sm'] = 2 # single male\n",
    "# df.loc[((df['sex'] == 2) & (df['marital_status'] == 1)) , 'sm'] = 3 # married female\n",
    "# df.loc[((df['sex'] == 2) & (df['marital_status'] == 2)) , 'sm'] = 4 # single female\n"
   ]
  },
  {
   "cell_type": "markdown",
   "metadata": {},
   "source": [
    "### Grouping \"sex\" and \"age\""
   ]
  },
  {
   "cell_type": "code",
   "execution_count": 96,
   "metadata": {},
   "outputs": [],
   "source": [
    "# # df['age_groups'] = pd.cut(df['age'], [21, 29, 80])\n",
    "# # df['age_groups'] \n",
    "# df['age_groups'] = pd.cut(df['age'], [21, 29, 80], labels = [29, 40])\n",
    "# df['age_groups'].hist();\n",
    "# df['age_groups'].value_counts()"
   ]
  },
  {
   "cell_type": "code",
   "execution_count": 97,
   "metadata": {},
   "outputs": [],
   "source": [
    "# # sa column refers to \"sex\"-\"age\" feature:\n",
    "\n",
    "# df.loc[((df['sex'] == 1) & (df['age_groups'] == 29)) , 'sa'] = 1 # 29- male\n",
    "# df.loc[((df['sex'] == 1) & (df['age_groups'] == 40)) , 'sa'] = 2 # 29+ male\n",
    "# df.loc[((df['sex'] == 2) & (df['age_groups'] == 29)) , 'sa'] = 3 # 29- female\n",
    "# df.loc[((df['sex'] == 2) & (df['age_groups'] == 40)) , 'sa'] = 4 # 29+ female"
   ]
  },
  {
   "cell_type": "markdown",
   "metadata": {},
   "source": [
    "### Grouping \"age\" and \"marital_status\""
   ]
  },
  {
   "cell_type": "code",
   "execution_count": 98,
   "metadata": {},
   "outputs": [],
   "source": [
    "# # am column refers to \"sex\"-\"age\" feature:\n",
    "\n",
    "# df.loc[((df['age_groups'] == 29) & (df['marital_status'] == 1)) , 'am'] = 1 # 29- married\n",
    "# df.loc[((df['age_groups'] == 29) & (df['marital_status'] == 2)) , 'am'] = 2 # 29- single\n",
    "# df.loc[((df['age_groups'] == 40) & (df['marital_status'] == 1)) , 'am'] = 3 # 29+ married\n",
    "# df.loc[((df['age_groups'] == 40) & (df['marital_status'] == 2)) , 'am'] = 4 # 29+ single"
   ]
  },
  {
   "cell_type": "markdown",
   "metadata": {},
   "source": [
    "# Hypothesis Testing:\n",
    "\n",
    "### I am going to determine if there is statistically significant difference for the mean 'next_default_payment' in the following groups:\n",
    "\n",
    "- Male vs. female\n",
    "- Married vs. single\n",
    "- Educated vs. non-educated"
   ]
  },
  {
   "cell_type": "markdown",
   "metadata": {},
   "source": [
    "### Hypothesis Testing for \"sex\" column:\n",
    "\n",
    "Null hypothesis: The default in male and female are not significantly different.\n",
    "\n",
    "Alternative hyphothesis: The default in male and female are significantly different.\n",
    "\n",
    "alpha value = 0.05\n",
    "\n",
    "p_value needs to be calculated and compared with alpha value"
   ]
  },
  {
   "cell_type": "code",
   "execution_count": 99,
   "metadata": {},
   "outputs": [],
   "source": [
    "# Hand Calculation\n",
    "\n",
    "# p_default = df['next_default_payment'].mean()\n",
    "# p_male = df.query('sex == 1')['next_default_payment'].mean()\n",
    "# n_male = df.query('sex == 1').shape[0]\n",
    "# p_female = df.query('sex == 2')['next_default_payment'].mean()\n",
    "# n_female = df.query('sex == 2').shape[0]\n",
    "\n",
    "# p_diffs=[]\n",
    "# for _ in range(10000):\n",
    "#     male_dist = np.random.choice([0, 1], size = n_male, p = [1 - p_default, p_default])\n",
    "#     female_dist = np.random.choice([0, 1], size = n_female, p = [1 - p_default, p_default])\n",
    "#     p_diffs.append(male_dist.mean() - female_dist.mean())\n",
    "\n",
    "# plt.hist(p_diffs, bins = 30);"
   ]
  },
  {
   "cell_type": "code",
   "execution_count": 100,
   "metadata": {},
   "outputs": [],
   "source": [
    "# m_actual = df.query('sex == 1')['next_default_payment'].mean()\n",
    "# f_actual = df.query('sex == 2')['next_default_payment'].mean()\n",
    "# actual_diffs = m_actual - f_actual\n",
    "# proportion = (p_diffs < actual_diffs).mean()\n",
    "# proportion"
   ]
  },
  {
   "cell_type": "code",
   "execution_count": 101,
   "metadata": {},
   "outputs": [],
   "source": [
    "# plt.hist(p_diffs, bins = 30)\n",
    "# plt.axvline(x = actual_diffs, color = 'red');"
   ]
  },
  {
   "cell_type": "code",
   "execution_count": 102,
   "metadata": {},
   "outputs": [
    {
     "data": {
      "text/plain": [
       "(6.739496225796551, 1.6251260032040013e-11)"
      ]
     },
     "execution_count": 102,
     "metadata": {},
     "output_type": "execute_result"
    }
   ],
   "source": [
    "# Welch’s t-test\n",
    "\n",
    "df_male = df[df['sex'] == 1]\n",
    "df_female = df[df['sex'] == 2]\n",
    "\n",
    "stat, p_val = stats.ttest_ind(df_male['next_default_payment'], df_female['next_default_payment'], equal_var = False)\n",
    "del df_male, df_female\n",
    "\n",
    "stat, p_val"
   ]
  },
  {
   "cell_type": "code",
   "execution_count": 103,
   "metadata": {},
   "outputs": [
    {
     "data": {
      "text/plain": [
       "(6.808013145728061, 9.895582436326206e-12)"
      ]
     },
     "execution_count": 103,
     "metadata": {},
     "output_type": "execute_result"
    }
   ],
   "source": [
    "# z-test\n",
    "\n",
    "from statsmodels.stats.proportion import proportions_ztest\n",
    "\n",
    "default_male = df.query('sex == 1')['next_default_payment'].sum()\n",
    "default_female = df.query('sex == 2')['next_default_payment'].sum()\n",
    "n_male = df.query('sex == 1').shape[0]\n",
    "n_female = df.query('sex == 2').shape[0]\n",
    "\n",
    "z_stat, p_value = proportions_ztest([default_male, default_female], [n_male, n_female], alternative = 'two-sided')\n",
    "z_stat, p_value"
   ]
  },
  {
   "cell_type": "markdown",
   "metadata": {},
   "source": [
    "### The p_value is less than defined alpha (0.05), therefore, we have enough evidence to reject the null hypothesis. Being that said,  the default in male and female are significantly different."
   ]
  },
  {
   "cell_type": "markdown",
   "metadata": {},
   "source": [
    "### Hypothesis Testing for \"education\" column:\n",
    "\n",
    "Null hypothesis: The default in educated and uneducated clients are not significantly different.\n",
    "\n",
    "Alternative hyphothesis: The default in educated and uneducated clients are significantly different.\n",
    "\n",
    "alpha value = 0.05\n",
    "\n",
    "p_value needs to be calculated and compared with alpha value"
   ]
  },
  {
   "cell_type": "code",
   "execution_count": 104,
   "metadata": {},
   "outputs": [
    {
     "data": {
      "text/plain": [
       "(-8.555466121405946, 1.2443964381135322e-17)"
      ]
     },
     "execution_count": 104,
     "metadata": {},
     "output_type": "execute_result"
    }
   ],
   "source": [
    "# Welch’s t-test\n",
    "\n",
    "df_educated1 = df[df['education'] == 1]\n",
    "df_educated2 = df[df['education'] == 2]\n",
    "\n",
    "stat, p_val = stats.ttest_ind(df_educated1['next_default_payment'], df_educated2['next_default_payment'], equal_var = False)\n",
    "del df_educated1, df_educated2\n",
    "\n",
    "stat, p_val"
   ]
  },
  {
   "cell_type": "code",
   "execution_count": 105,
   "metadata": {},
   "outputs": [
    {
     "data": {
      "text/plain": [
       "(-8.452330863221617, 2.855440394418058e-17)"
      ]
     },
     "execution_count": 105,
     "metadata": {},
     "output_type": "execute_result"
    }
   ],
   "source": [
    "# z-test\n",
    "\n",
    "education1 = df.query('education == 1')['next_default_payment'].sum()\n",
    "education2 = df.query('education == 2')['next_default_payment'].sum()\n",
    "n_education1 = df.query('education == 1').shape[0]\n",
    "n_education2 = df.query('education == 2').shape[0]\n",
    "\n",
    "z_stat, p_value = proportions_ztest([education1, education2], [n_education1, n_education2], alternative = 'two-sided')\n",
    "z_stat, p_value"
   ]
  },
  {
   "cell_type": "markdown",
   "metadata": {},
   "source": [
    "### The p_value is less than defined alpha (0.05), therefore, we have enough evidence to reject the null hypothesis. Being that said,  the default in educated and uneducated clients are significantly different."
   ]
  },
  {
   "cell_type": "markdown",
   "metadata": {},
   "source": [
    "### Hypothesis Testing for \"marital_status\" column:\n",
    "\n",
    "Null hypothesis: The default in single and married clients are not significantly different.\n",
    "\n",
    "Alternative hyphothesis: The default in single and married clients are significantly different.\n",
    "\n",
    "alpha value = 0.05\n",
    "\n",
    "p_value needs to be calculated and compared with alpha value"
   ]
  },
  {
   "cell_type": "code",
   "execution_count": 106,
   "metadata": {},
   "outputs": [
    {
     "data": {
      "text/plain": [
       "(5.301327680950628, 1.158303165242587e-07)"
      ]
     },
     "execution_count": 106,
     "metadata": {},
     "output_type": "execute_result"
    }
   ],
   "source": [
    "# Welch’s t-test\n",
    "\n",
    "df_married = df[df['marital_status'] == 1]\n",
    "df_single = df[df['marital_status'] == 2]\n",
    "stat, p_val = stats.ttest_ind(df_married['next_default_payment'], df_single['next_default_payment'], equal_var = False)\n",
    "\n",
    "del df_married, df_single\n",
    "\n",
    "stat, p_val"
   ]
  },
  {
   "cell_type": "code",
   "execution_count": 107,
   "metadata": {},
   "outputs": [
    {
     "data": {
      "text/plain": [
       "(5.316385685967036, 1.0584866834598274e-07)"
      ]
     },
     "execution_count": 107,
     "metadata": {},
     "output_type": "execute_result"
    }
   ],
   "source": [
    "# z-test\n",
    "\n",
    "marital1 = df.query('marital_status == 1')['next_default_payment'].sum()\n",
    "marital2 = df.query('marital_status == 2')['next_default_payment'].sum()\n",
    "n_marital1 = df.query('marital_status == 1').shape[0]\n",
    "n_marital2 = df.query('marital_status == 2').shape[0]\n",
    "\n",
    "z_stat, p_value = proportions_ztest([marital1, marital2], [n_marital1, n_marital2], alternative = 'two-sided')\n",
    "z_stat, p_value"
   ]
  },
  {
   "cell_type": "markdown",
   "metadata": {},
   "source": [
    "### The p_value is less than defined alpha (0.05), therefore, we have enough evidence to reject the null hypothesis. Being that said,  the default in single and married clients are significantly different."
   ]
  },
  {
   "cell_type": "markdown",
   "metadata": {},
   "source": [
    "### Hypothesis Testing for \"age\" column:\n",
    "\n",
    "- ref_age = reference age\n",
    "\n",
    "Null hypothesis: The default in clients younger and older than \"ref_age\" are not significantly different.\n",
    "\n",
    "Alternative hyphothesis: The default in clients younger and older than \"ref_age\" are significantly different.\n",
    "\n",
    "alpha value = 0.05\n",
    "\n",
    "p_value needs to be calculated and compared with alpha value"
   ]
  },
  {
   "cell_type": "code",
   "execution_count": 108,
   "metadata": {},
   "outputs": [
    {
     "data": {
      "text/plain": [
       "(0.9815059870534802, 0.3263537857694412)"
      ]
     },
     "execution_count": 108,
     "metadata": {},
     "output_type": "execute_result"
    }
   ],
   "source": [
    "# Welch’s t-test\n",
    "\n",
    "df_age_le30 = df[df['age'] <= 30]\n",
    "df_age_m30 = df[df['age'] > 30]\n",
    "stat, p_val = stats.ttest_ind(df_age_le30['next_default_payment'], df_age_m30['next_default_payment'], equal_var = False)\n",
    "\n",
    "del df_age_le30\n",
    "del df_age_m30\n",
    "\n",
    "stat, p_val"
   ]
  },
  {
   "cell_type": "code",
   "execution_count": 109,
   "metadata": {},
   "outputs": [
    {
     "data": {
      "text/plain": [
       "(0.9835629604981697, 0.3253304443711631)"
      ]
     },
     "execution_count": 109,
     "metadata": {},
     "output_type": "execute_result"
    }
   ],
   "source": [
    "# z-test\n",
    "\n",
    "age_le30 = df.query('age <= 30')['next_default_payment'].sum()\n",
    "age_m30 = df.query('age > 30')['next_default_payment'].sum()\n",
    "n_age_le30 = df.query('age <= 30').shape[0]\n",
    "n_age_m30 = df.query('age > 30').shape[0]\n",
    "\n",
    "z_stat, p_value = proportions_ztest([age_le30, age_m30], [n_age_le30, n_age_m30], alternative = 'two-sided')\n",
    "z_stat, p_value"
   ]
  },
  {
   "cell_type": "code",
   "execution_count": 110,
   "metadata": {},
   "outputs": [
    {
     "data": {
      "image/png": "[encoded data removed]",
      "text/plain": [
       "<Figure size 432x288 with 1 Axes>"
      ]
     },
     "metadata": {
      "needs_background": "light"
     },
     "output_type": "display_data"
    }
   ],
   "source": [
    "# z-test for \"age\" column\n",
    "\n",
    "x_age = np.arange(df['age'].min(), df['age'].max() + 1)\n",
    "\n",
    "p_value_age = []\n",
    "for i in x_age:\n",
    "    age_le = df[df['age'] <= i]['next_default_payment'].sum()\n",
    "    age_m = df[df['age'] > i]['next_default_payment'].sum()\n",
    "    n_age_le = df[df['age'] <= i].shape[0]\n",
    "    n_age_m = df[df['age'] > i].shape[0]\n",
    "    z_stat, p_value = proportions_ztest([age_le, age_m], [n_age_le, n_age_m], alternative = 'two-sided')\n",
    "    p_value_age.append(p_value)\n",
    "\n",
    "plt.plot(x_age, p_value_age);\n",
    "x_age[np.argmax(p_value_age[2:30])]\n",
    "plt.savefig('../figure/pvalue_age')"
   ]
  },
  {
   "cell_type": "code",
   "execution_count": 111,
   "metadata": {},
   "outputs": [
    {
     "data": {
      "image/png": "[encoded data removed]",
      "text/plain": [
       "<Figure size 432x288 with 1 Axes>"
      ]
     },
     "metadata": {
      "needs_background": "light"
     },
     "output_type": "display_data"
    }
   ],
   "source": [
    "sns.distplot(p_value_age, kde = True, bins = 200, color = \"red\");"
   ]
  },
  {
   "cell_type": "code",
   "execution_count": 112,
   "metadata": {},
   "outputs": [
    {
     "data": {
      "image/png": "[encoded data removed]",
      "text/plain": [
       "<Figure size 432x288 with 1 Axes>"
      ]
     },
     "metadata": {
      "needs_background": "light"
     },
     "output_type": "display_data"
    }
   ],
   "source": [
    "df['age'].hist();\n",
    "plt.savefig('../figure/age_hist')"
   ]
  },
  {
   "cell_type": "code",
   "execution_count": 113,
   "metadata": {},
   "outputs": [
    {
     "data": {
      "image/png": "[encoded data removed]",
      "text/plain": [
       "<Figure size 432x288 with 1 Axes>"
      ]
     },
     "metadata": {
      "needs_background": "light"
     },
     "output_type": "display_data"
    }
   ],
   "source": [
    "x_age = np.arange(df['age'].min(), df['age'].max() + 1)\n",
    "\n",
    "default_age = []\n",
    "non_default_age = []\n",
    "\n",
    "for i in x_age:\n",
    "    age_def = df[df['age'] == i]['next_default_payment'].sum()\n",
    "    age_non_def = df[df['age'] == i].shape[0] - age_def\n",
    "    default_age.append(age_def)\n",
    "    non_default_age.append(age_non_def)\n",
    "    \n",
    "plt.plot(x_age, default_age, color = 'red');\n",
    "plt.plot(x_age, non_default_age, color = 'blue');\n",
    "# plt.legend(['default', 'non_default']);\n",
    "# plt.xlabel('Age')\n",
    "# plt.ylabel('Counts');\n",
    "# # plt.savefig('../figure/pvalue_age')"
   ]
  },
  {
   "cell_type": "code",
   "execution_count": 114,
   "metadata": {},
   "outputs": [
    {
     "data": {
      "image/png": "[encoded data removed]",
      "text/plain": [
       "<Figure size 432x288 with 1 Axes>"
      ]
     },
     "metadata": {
      "needs_background": "light"
     },
     "output_type": "display_data"
    }
   ],
   "source": [
    "df_def = df[df['next_default_payment'] == 1]\n",
    "df_non_def = df[df['next_default_payment'] == 0]\n",
    "\n",
    "sns.distplot(df_def['age'], kde = True, bins = 200, color = \"red\", hist = False, rug = True);\n",
    "sns.distplot(df_non_def['age'], kde = True, bins = 200, color = \"blue\", hist = False, rug = True);\n",
    "# plt.legend(['Default', 'Non_default']);\n",
    "# plt.xlabel('Age');\n"
   ]
  },
  {
   "cell_type": "markdown",
   "metadata": {},
   "source": [
    "### Hypothesis Testing for \"default_count\" column:\n",
    "\n",
    "- ref_value = reference value\n",
    "\n",
    "Null hypothesis: The default in clients with total default count less than and more than \"ref_value\" are not significantly different.\n",
    "\n",
    "Alternative hyphothesis: The default in clients with total default count less than and more than \"ref_value\" are significantly different.\n",
    "\n",
    "alpha value = 0.05\n",
    "\n",
    "p_value needs to be calculated and compared with alpha value"
   ]
  },
  {
   "cell_type": "code",
   "execution_count": 115,
   "metadata": {},
   "outputs": [
    {
     "data": {
      "image/png": "[encoded data removed]",
      "text/plain": [
       "<Figure size 432x288 with 1 Axes>"
      ]
     },
     "metadata": {
      "needs_background": "light"
     },
     "output_type": "display_data"
    }
   ],
   "source": [
    "# z-test for \"default_count\" column\n",
    "\n",
    "p_value_dc = []\n",
    "for i in range(1,5):\n",
    "    dc_le = df[df['default_count'] <= i]['next_default_payment'].sum()\n",
    "    dc_m = df[df['default_count'] > i]['next_default_payment'].sum()\n",
    "    n_le = df[df['default_count'] <= i].shape[0]\n",
    "    n_m = df[df['default_count'] > i].shape[0]\n",
    "    z_stat, p_value = proportions_ztest([dc_le, dc_m], [n_le, n_m], alternative = 'two-sided')\n",
    "    p_value_dc.append(p_value)\n",
    "\n",
    "plt.plot(np.arange(1,5), p_value_dc);"
   ]
  },
  {
   "cell_type": "code",
   "execution_count": 116,
   "metadata": {},
   "outputs": [
    {
     "data": {
      "text/plain": [
       "[1.237031549710132e-36,\n",
       " 1.945994376682736e-43,\n",
       " 7.283804784694685e-51,\n",
       " 9.694734205137248e-63]"
      ]
     },
     "execution_count": 116,
     "metadata": {},
     "output_type": "execute_result"
    }
   ],
   "source": [
    "p_value_dc"
   ]
  },
  {
   "cell_type": "code",
   "execution_count": 117,
   "metadata": {},
   "outputs": [
    {
     "data": {
      "image/png": "[encoded data removed]",
      "text/plain": [
       "<Figure size 432x288 with 1 Axes>"
      ]
     },
     "metadata": {
      "needs_background": "light"
     },
     "output_type": "display_data"
    }
   ],
   "source": [
    "# z-test for \"credit_usage\" column\n",
    "\n",
    "x_cu = np.linspace(df['credit_usage'].min(), df['credit_usage'].max() + 1, 59)\n",
    "\n",
    "p_value_cu = []\n",
    "for i in x_cu:\n",
    "    cu_le = df[df['credit_usage'] <= i]['next_default_payment'].sum()\n",
    "    cu_m = df[df['credit_usage'] > i]['next_default_payment'].sum()\n",
    "    n_cu_le = df[df['credit_usage'] <= i].shape[0]\n",
    "    n_cu_m = df[df['credit_usage'] > i].shape[0]\n",
    "    z_stat, p_value = proportions_ztest([cu_le, cu_m], [n_cu_le, n_cu_m], alternative = 'two-sided')\n",
    "    p_value_cu.append(p_value)\n",
    "\n",
    "plt.plot(x_cu, p_value_cu);\n"
   ]
  },
  {
   "cell_type": "code",
   "execution_count": 118,
   "metadata": {},
   "outputs": [
    {
     "data": {
      "image/png": "[encoded data removed]",
      "text/plain": [
       "<Figure size 432x288 with 1 Axes>"
      ]
     },
     "metadata": {
      "needs_background": "light"
     },
     "output_type": "display_data"
    }
   ],
   "source": [
    "df['credit_usage'].hist();"
   ]
  },
  {
   "cell_type": "markdown",
   "metadata": {},
   "source": [
    "### The p_value is less than defined alpha (0.05), therefore, we have enough evidence to reject the null hypothesis. Being that said,  the default in clients with total default count less than and more than \"ref_value\" are significantly different."
   ]
  },
  {
   "cell_type": "markdown",
   "metadata": {},
   "source": [
    "# Bayesian Testing"
   ]
  },
  {
   "cell_type": "code",
   "execution_count": 119,
   "metadata": {},
   "outputs": [],
   "source": [
    "x = np.arange(0, 1.001, 0.001)\n",
    "\n",
    "def get_beta_dist(df_baysian):\n",
    "    alpha = df_baysian.sum() + 1\n",
    "    beta = df_baysian.shape[0] - alpha + 1\n",
    "    return scs.beta(a = alpha, b = beta)\n",
    "\n",
    "def get_pdf(x, df_baysian):\n",
    "    alpha = df_baysian.sum() + 1\n",
    "    beta = df_baysian.shape[0] - alpha + 1\n",
    "    return scs.beta(a = alpha, b = beta).pdf(x)"
   ]
  },
  {
   "cell_type": "code",
   "execution_count": 120,
   "metadata": {},
   "outputs": [],
   "source": [
    "def plot_with_fill(x, y, label):\n",
    "    lines = plt.plot(x, y, label = label, lw = 2)\n",
    "    plt.fill_between(x, 0, y, alpha = 0.2, color = lines[0].get_c())\n",
    "    plt.legend(loc = 'best')"
   ]
  },
  {
   "cell_type": "code",
   "execution_count": 121,
   "metadata": {},
   "outputs": [
    {
     "name": "stdout",
     "output_type": "stream",
     "text": [
      "1.0\n"
     ]
    },
    {
     "data": {
      "text/plain": [
       "(0.2435219911353563, 0.20982393181563305)"
      ]
     },
     "execution_count": 121,
     "metadata": {},
     "output_type": "execute_result"
    },
    {
     "data": {
      "image/png": "[encoded data removed]",
      "text/plain": [
       "<Figure size 432x288 with 1 Axes>"
      ]
     },
     "metadata": {
      "needs_background": "light"
     },
     "output_type": "display_data"
    }
   ],
   "source": [
    "# Baysian testing for 'sex'\n",
    "\n",
    "df_baysian1 = df.query('sex == 1')['next_default_payment']\n",
    "df_baysian2 = df.query('sex == 2')['next_default_payment']\n",
    "y1 = get_pdf(x, df_baysian1)\n",
    "y2 = get_pdf(x, df_baysian2)\n",
    "\n",
    "samp1 = get_beta_dist(df_baysian1).rvs(size=100000)\n",
    "samp2 = get_beta_dist(df_baysian2).rvs(size=100000)\n",
    "\n",
    "print((samp1 > samp2).mean())\n",
    "\n",
    "del df_baysian1, df_baysian2\n",
    "\n",
    "plot_with_fill(x, y1, 'male')\n",
    "plot_with_fill(x, y2, 'female')\n",
    "plt.savefig('../figure/bayesian_sex')\n",
    "\n",
    "\n",
    "df.query('sex == 1')['next_default_payment'].mean(), df.query('sex == 2')['next_default_payment'].mean()"
   ]
  },
  {
   "cell_type": "markdown",
   "metadata": {},
   "source": [
    "### The probability that male has more default than female is 1.0."
   ]
  },
  {
   "cell_type": "code",
   "execution_count": 122,
   "metadata": {
    "scrolled": true
   },
   "outputs": [
    {
     "name": "stdout",
     "output_type": "stream",
     "text": [
      "1.0\n"
     ]
    },
    {
     "data": {
      "image/png": "[encoded data removed]",
      "text/plain": [
       "<Figure size 432x288 with 1 Axes>"
      ]
     },
     "metadata": {
      "needs_background": "light"
     },
     "output_type": "display_data"
    }
   ],
   "source": [
    "# Baysian testing for 'marital_status'\n",
    "\n",
    "df_baysian1 = df.query('marital_status == 1')['next_default_payment']\n",
    "df_baysian2 = df.query('marital_status == 2')['next_default_payment']\n",
    "y1 = get_pdf(x, df_baysian1)\n",
    "y2 = get_pdf(x, df_baysian2)\n",
    "\n",
    "samp1 = get_beta_dist(df_baysian1).rvs(size=100000)\n",
    "samp2 = get_beta_dist(df_baysian2).rvs(size=100000)\n",
    "\n",
    "print((samp1 > samp2).mean())\n",
    "\n",
    "del df_baysian1, df_baysian2\n",
    "\n",
    "plot_with_fill(x, y1, 'married')\n",
    "plot_with_fill(x, y2, 'single')\n",
    "plt.savefig('../figure/bayesian_marital')"
   ]
  },
  {
   "cell_type": "markdown",
   "metadata": {},
   "source": [
    "### The probability that married client has more default than single client is 1.0."
   ]
  },
  {
   "cell_type": "code",
   "execution_count": 123,
   "metadata": {},
   "outputs": [],
   "source": [
    "# # Baysian testing for 'age'\n",
    "\n",
    "# df_baysian1 = df.query('age <= 29')['next_default_payment']\n",
    "# df_baysian2 = df.query('age > 29')['next_default_payment']\n",
    "# y1 = get_pdf(x, df_baysian1)\n",
    "# y2 = get_pdf(x, df_baysian2)\n",
    "\n",
    "# samp1 = get_beta_dist(df_baysian1).rvs(size=100000)\n",
    "# samp2 = get_beta_dist(df_baysian2).rvs(size=100000)\n",
    "\n",
    "# print((samp1 > samp2).mean())\n",
    "\n",
    "# del df_baysian1, df_baysian2\n",
    "\n",
    "# plot_with_fill(x, y1, '29-')\n",
    "# plot_with_fill(x, y2, '29+')"
   ]
  },
  {
   "cell_type": "code",
   "execution_count": 124,
   "metadata": {},
   "outputs": [
    {
     "data": {
      "image/png": "[encoded data removed]",
      "text/plain": [
       "<Figure size 432x288 with 1 Axes>"
      ]
     },
     "metadata": {
      "needs_background": "light"
     },
     "output_type": "display_data"
    }
   ],
   "source": [
    "# Baysian testing for 'sex'-'marital_status'\n",
    "\n",
    "df_baysian1 = df.query('sex == 1 and marital_status == 1')['next_default_payment']\n",
    "df_baysian2 = df.query('sex == 2 and marital_status == 1')['next_default_payment']\n",
    "df_baysian3 = df.query('sex == 1 and marital_status == 2')['next_default_payment']\n",
    "df_baysian4 = df.query('sex == 2 and marital_status == 2')['next_default_payment']\n",
    "\n",
    "y1 = get_pdf(x, df_baysian1)\n",
    "y2 = get_pdf(x, df_baysian2)\n",
    "y3 = get_pdf(x, df_baysian3)\n",
    "y4 = get_pdf(x, df_baysian4)\n",
    "\n",
    "del df_baysian1, df_baysian2, df_baysian3, df_baysian4\n",
    "\n",
    "plot_with_fill(x, y1, 'married male')\n",
    "plot_with_fill(x, y2, 'married female')\n",
    "plot_with_fill(x, y3, 'single male')\n",
    "plot_with_fill(x, y4, 'single female')\n",
    "plt.savefig('../figure/bayesian_sex_marital')"
   ]
  },
  {
   "cell_type": "code",
   "execution_count": 125,
   "metadata": {},
   "outputs": [
    {
     "data": {
      "image/png": "[encoded data removed]",
      "text/plain": [
       "<Figure size 432x288 with 1 Axes>"
      ]
     },
     "metadata": {
      "needs_background": "light"
     },
     "output_type": "display_data"
    }
   ],
   "source": [
    "# Baysian testing for 'age'-'marital_status'\n",
    "\n",
    "df_baysian1 = df.query('age <= 29 and marital_status == 1')['next_default_payment']\n",
    "df_baysian2 = df.query('age <= 29 and marital_status == 2')['next_default_payment']\n",
    "df_baysian3 = df.query('age > 29 and marital_status == 1')['next_default_payment']\n",
    "df_baysian4 = df.query('age > 29 and marital_status == 2')['next_default_payment']\n",
    "\n",
    "y1 = get_pdf(x, df_baysian1)\n",
    "y2 = get_pdf(x, df_baysian2)\n",
    "y3 = get_pdf(x, df_baysian3)\n",
    "y4 = get_pdf(x, df_baysian4)\n",
    "\n",
    "del df_baysian1, df_baysian2, df_baysian3, df_baysian4\n",
    "\n",
    "plot_with_fill(x, y1, r'age $\\le 29$, married')\n",
    "plot_with_fill(x, y2, r'age $\\le 29$, single')\n",
    "plot_with_fill(x, y3, r'age $ > 29$, married')\n",
    "plot_with_fill(x, y4, r'age $ > 29$, single')\n",
    "plt.savefig('../figure/bayesian_age29_marital')"
   ]
  },
  {
   "cell_type": "code",
   "execution_count": 126,
   "metadata": {},
   "outputs": [
    {
     "data": {
      "image/png": "[encoded data removed]",
      "text/plain": [
       "<Figure size 432x288 with 1 Axes>"
      ]
     },
     "metadata": {
      "needs_background": "light"
     },
     "output_type": "display_data"
    }
   ],
   "source": [
    "# Baysian testing for 'sex'-'age'\n",
    "\n",
    "df_baysian1 = df.query('age <= 29 and sex == 1')['next_default_payment']\n",
    "df_baysian2 = df.query('age <= 29 and sex == 2')['next_default_payment']\n",
    "df_baysian3 = df.query('age > 29 and sex == 1')['next_default_payment']\n",
    "df_baysian4 = df.query('age > 29 and sex == 2')['next_default_payment']\n",
    "\n",
    "\n",
    "y1 = get_pdf(x, df_baysian1)\n",
    "y2 = get_pdf(x, df_baysian2)\n",
    "y3 = get_pdf(x, df_baysian3)\n",
    "y4 = get_pdf(x, df_baysian4)\n",
    "\n",
    "del df_baysian1, df_baysian2, df_baysian3, df_baysian4\n",
    "\n",
    "plot_with_fill(x, y1, r'age $\\le 29$, male')\n",
    "plot_with_fill(x, y2, r'age $\\le 29$, female')\n",
    "plot_with_fill(x, y3, r'age $ > 29$, male')\n",
    "plot_with_fill(x, y4, r'age $ > 29$, female')\n",
    "plt.savefig('../figure/bayesian_age29_sex')"
   ]
  },
  {
   "cell_type": "code",
   "execution_count": 127,
   "metadata": {},
   "outputs": [
    {
     "data": {
      "text/plain": [
       "35.46654941486843"
      ]
     },
     "execution_count": 127,
     "metadata": {},
     "output_type": "execute_result"
    }
   ],
   "source": [
    "df['age'].mean()"
   ]
  },
  {
   "cell_type": "code",
   "execution_count": 128,
   "metadata": {},
   "outputs": [
    {
     "data": {
      "image/png": "[encoded data removed]",
      "text/plain": [
       "<Figure size 432x288 with 1 Axes>"
      ]
     },
     "metadata": {
      "needs_background": "light"
     },
     "output_type": "display_data"
    }
   ],
   "source": [
    "# Baysian testing for 'sex'-'age'\n",
    "\n",
    "df_baysian1 = df.query('age <= 35 and sex == 1')['next_default_payment']\n",
    "df_baysian2 = df.query('age > 35 and sex == 1')['next_default_payment']\n",
    "df_baysian3 = df.query('age <= 35 and sex == 2')['next_default_payment']\n",
    "df_baysian4 = df.query('age > 35 and sex == 2')['next_default_payment']\n",
    "\n",
    "\n",
    "y1 = get_pdf(x, df_baysian1)\n",
    "y2 = get_pdf(x, df_baysian2)\n",
    "y3 = get_pdf(x, df_baysian3)\n",
    "y4 = get_pdf(x, df_baysian4)\n",
    "\n",
    "del df_baysian1, df_baysian2, df_baysian3, df_baysian4\n",
    "\n",
    "plot_with_fill(x, y1, r'age $\\le 35$, male')\n",
    "plot_with_fill(x, y2, r'age $ > 35$, male')\n",
    "plot_with_fill(x, y3, r'age $\\le 35$, female')\n",
    "plot_with_fill(x, y4, r'age $ > 35$, female')\n",
    "plt.savefig('../figure/bayesian_age35_sex')"
   ]
  },
  {
   "cell_type": "code",
   "execution_count": 129,
   "metadata": {},
   "outputs": [
    {
     "data": {
      "image/png": "[encoded data removed]",
      "text/plain": [
       "<Figure size 432x288 with 1 Axes>"
      ]
     },
     "metadata": {
      "needs_background": "light"
     },
     "output_type": "display_data"
    }
   ],
   "source": [
    "# Baysian testing for 'default_count'\n",
    "\n",
    "df_baysian1 = df.query('default_count == 0')['next_default_payment']\n",
    "df_baysian2 = df.query('default_count == 1')['next_default_payment']\n",
    "df_baysian3 = df.query('default_count == 2')['next_default_payment']\n",
    "df_baysian4 = df.query('default_count == 3')['next_default_payment']\n",
    "df_baysian5 = df.query('default_count == 4')['next_default_payment']\n",
    "df_baysian6 = df.query('default_count == 5')['next_default_payment']\n",
    "\n",
    "y1 = get_pdf(x, df_baysian1)\n",
    "y2 = get_pdf(x, df_baysian2)\n",
    "y3 = get_pdf(x, df_baysian3)\n",
    "y4 = get_pdf(x, df_baysian4)\n",
    "y5 = get_pdf(x, df_baysian5)\n",
    "y6 = get_pdf(x, df_baysian6)\n",
    "\n",
    "del df_baysian1, df_baysian2, df_baysian3, df_baysian4, df_baysian5, df_baysian6\n",
    "\n",
    "plot_with_fill(x, y1, r'$\\#$ def. month = 0')\n",
    "plot_with_fill(x, y2, r'$\\#$ def. month = 1')\n",
    "plot_with_fill(x, y3, r'$\\#$ def. month = 2')\n",
    "plot_with_fill(x, y4, r'$\\#$ def. month = 3')\n",
    "plot_with_fill(x, y5, r'$\\#$ def. month = 4')\n",
    "plot_with_fill(x, y6, r'$\\#$ def. month = 5')\n",
    "plt.savefig('../figure/bayesian_previous_default_count')"
   ]
  },
  {
   "cell_type": "markdown",
   "metadata": {},
   "source": [
    "### Power Analysis"
   ]
  },
  {
   "cell_type": "code",
   "execution_count": 130,
   "metadata": {},
   "outputs": [],
   "source": [
    "def compute_power(n, sigma, alpha, mu0, mua):\n",
    "    standard_error = sigma / n**0.5\n",
    "    h0 = scs.norm(mu0, standard_error)\n",
    "    ha = scs.norm(mua, standard_error)\n",
    "    critical_value = h0.ppf(1 - alpha)\n",
    "    power = 1 - ha.cdf(critical_value)\n",
    "    return power"
   ]
  },
  {
   "cell_type": "code",
   "execution_count": null,
   "metadata": {},
   "outputs": [],
   "source": []
  }
 ],
 "metadata": {
  "kernelspec": {
   "display_name": "Python 3",
   "language": "python",
   "name": "python3"
  },
  "language_info": {
   "codemirror_mode": {
    "name": "ipython",
    "version": 3
   },
   "file_extension": ".py",
   "mimetype": "text/x-python",
   "name": "python",
   "nbconvert_exporter": "python",
   "pygments_lexer": "ipython3",
   "version": "3.7.3"
  }
 },
 "nbformat": 4,
 "nbformat_minor": 4
}
